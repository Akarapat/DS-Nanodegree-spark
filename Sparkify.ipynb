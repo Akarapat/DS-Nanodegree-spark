{
 "cells": [
  {
   "cell_type": "markdown",
   "metadata": {},
   "source": [
    "# Sparkify Project Workspace\n",
    "This workspace contains a tiny subset (128MB) of the full dataset available (12GB). Feel free to use this workspace to build your project, or to explore a smaller subset with Spark before deploying your cluster on the cloud. Instructions for setting up your Spark cluster is included in the last lesson of the Extracurricular Spark Course content.\n",
    "\n",
    "You can follow the steps below to guide your data analysis and model building portion of this project."
   ]
  },
  {
   "cell_type": "code",
   "execution_count": 2,
   "metadata": {},
   "outputs": [],
   "source": [
    "# import libraries\n",
    "from pyspark.sql import SparkSession, Window\n",
    "from pyspark.sql.functions import avg, stddev, split, udf, isnull, first, col, format_number, rand, count\n",
    "from pyspark.sql import functions as func\n",
    "from pyspark.sql.functions import min as fmin\n",
    "from pyspark.sql.functions import max as fmax\n",
    "from pyspark.sql.types import IntegerType, FloatType"
   ]
  },
  {
   "cell_type": "code",
   "execution_count": 3,
   "metadata": {},
   "outputs": [],
   "source": [
    "from pyspark.ml.linalg import DenseVector, SparseVector, Vectors, VectorUDT\n",
    "from pyspark.sql import functions as F\n",
    "from pyspark.sql.types import *"
   ]
  },
  {
   "cell_type": "code",
   "execution_count": 4,
   "metadata": {},
   "outputs": [],
   "source": [
    "from pyspark.ml import Pipeline\n",
    "from pyspark.ml.classification import LogisticRegression, DecisionTreeClassifier,RandomForestClassifier, LinearSVC\n",
    "from pyspark.ml.feature import StandardScaler, MinMaxScaler, VectorAssembler\n",
    "from pyspark.ml.evaluation import MulticlassClassificationEvaluator\n",
    "from pyspark.mllib.evaluation import MulticlassMetrics\n",
    "from pyspark.ml.tuning import CrossValidator, ParamGridBuilder"
   ]
  },
  {
   "cell_type": "code",
   "execution_count": 5,
   "metadata": {},
   "outputs": [],
   "source": [
    "import re\n",
    "import copy\n",
    "import time\n",
    "import datetime\n",
    "import numpy as np\n",
    "import pandas as pd\n",
    "import seaborn as sns\n",
    "import matplotlib.pyplot as plt\n",
    "from statsmodels.stats.proportion import proportions_ztest\n",
    "\n",
    "%matplotlib inline"
   ]
  },
  {
   "cell_type": "code",
   "execution_count": 6,
   "metadata": {},
   "outputs": [
    {
     "ename": "Exception",
     "evalue": "Java gateway process exited before sending its port number",
     "output_type": "error",
     "traceback": [
      "\u001b[1;31m---------------------------------------------------------------------------\u001b[0m",
      "\u001b[1;31mException\u001b[0m                                 Traceback (most recent call last)",
      "\u001b[1;32m<ipython-input-6-220256008820>\u001b[0m in \u001b[0;36m<module>\u001b[1;34m()\u001b[0m\n\u001b[0;32m      1\u001b[0m \u001b[1;31m# create a Spark session\u001b[0m\u001b[1;33m\u001b[0m\u001b[1;33m\u001b[0m\u001b[0m\n\u001b[1;32m----> 2\u001b[1;33m \u001b[0mspark\u001b[0m \u001b[1;33m=\u001b[0m \u001b[0mSparkSession\u001b[0m\u001b[1;33m.\u001b[0m\u001b[0mbuilder\u001b[0m\u001b[1;33m.\u001b[0m\u001b[0mappName\u001b[0m\u001b[1;33m(\u001b[0m\u001b[1;34m'Sparkify_local'\u001b[0m\u001b[1;33m)\u001b[0m\u001b[1;33m.\u001b[0m\u001b[0mgetOrCreate\u001b[0m\u001b[1;33m(\u001b[0m\u001b[1;33m)\u001b[0m\u001b[1;33m\u001b[0m\u001b[0m\n\u001b[0m",
      "\u001b[1;32m~\\Anaconda3\\lib\\site-packages\\pyspark\\sql\\session.py\u001b[0m in \u001b[0;36mgetOrCreate\u001b[1;34m(self)\u001b[0m\n\u001b[0;32m    171\u001b[0m                     \u001b[1;32mfor\u001b[0m \u001b[0mkey\u001b[0m\u001b[1;33m,\u001b[0m \u001b[0mvalue\u001b[0m \u001b[1;32min\u001b[0m \u001b[0mself\u001b[0m\u001b[1;33m.\u001b[0m\u001b[0m_options\u001b[0m\u001b[1;33m.\u001b[0m\u001b[0mitems\u001b[0m\u001b[1;33m(\u001b[0m\u001b[1;33m)\u001b[0m\u001b[1;33m:\u001b[0m\u001b[1;33m\u001b[0m\u001b[0m\n\u001b[0;32m    172\u001b[0m                         \u001b[0msparkConf\u001b[0m\u001b[1;33m.\u001b[0m\u001b[0mset\u001b[0m\u001b[1;33m(\u001b[0m\u001b[0mkey\u001b[0m\u001b[1;33m,\u001b[0m \u001b[0mvalue\u001b[0m\u001b[1;33m)\u001b[0m\u001b[1;33m\u001b[0m\u001b[0m\n\u001b[1;32m--> 173\u001b[1;33m                     \u001b[0msc\u001b[0m \u001b[1;33m=\u001b[0m \u001b[0mSparkContext\u001b[0m\u001b[1;33m.\u001b[0m\u001b[0mgetOrCreate\u001b[0m\u001b[1;33m(\u001b[0m\u001b[0msparkConf\u001b[0m\u001b[1;33m)\u001b[0m\u001b[1;33m\u001b[0m\u001b[0m\n\u001b[0m\u001b[0;32m    174\u001b[0m                     \u001b[1;31m# This SparkContext may be an existing one.\u001b[0m\u001b[1;33m\u001b[0m\u001b[1;33m\u001b[0m\u001b[0m\n\u001b[0;32m    175\u001b[0m                     \u001b[1;32mfor\u001b[0m \u001b[0mkey\u001b[0m\u001b[1;33m,\u001b[0m \u001b[0mvalue\u001b[0m \u001b[1;32min\u001b[0m \u001b[0mself\u001b[0m\u001b[1;33m.\u001b[0m\u001b[0m_options\u001b[0m\u001b[1;33m.\u001b[0m\u001b[0mitems\u001b[0m\u001b[1;33m(\u001b[0m\u001b[1;33m)\u001b[0m\u001b[1;33m:\u001b[0m\u001b[1;33m\u001b[0m\u001b[0m\n",
      "\u001b[1;32m~\\Anaconda3\\lib\\site-packages\\pyspark\\context.py\u001b[0m in \u001b[0;36mgetOrCreate\u001b[1;34m(cls, conf)\u001b[0m\n\u001b[0;32m    365\u001b[0m         \u001b[1;32mwith\u001b[0m \u001b[0mSparkContext\u001b[0m\u001b[1;33m.\u001b[0m\u001b[0m_lock\u001b[0m\u001b[1;33m:\u001b[0m\u001b[1;33m\u001b[0m\u001b[0m\n\u001b[0;32m    366\u001b[0m             \u001b[1;32mif\u001b[0m \u001b[0mSparkContext\u001b[0m\u001b[1;33m.\u001b[0m\u001b[0m_active_spark_context\u001b[0m \u001b[1;32mis\u001b[0m \u001b[1;32mNone\u001b[0m\u001b[1;33m:\u001b[0m\u001b[1;33m\u001b[0m\u001b[0m\n\u001b[1;32m--> 367\u001b[1;33m                 \u001b[0mSparkContext\u001b[0m\u001b[1;33m(\u001b[0m\u001b[0mconf\u001b[0m\u001b[1;33m=\u001b[0m\u001b[0mconf\u001b[0m \u001b[1;32mor\u001b[0m \u001b[0mSparkConf\u001b[0m\u001b[1;33m(\u001b[0m\u001b[1;33m)\u001b[0m\u001b[1;33m)\u001b[0m\u001b[1;33m\u001b[0m\u001b[0m\n\u001b[0m\u001b[0;32m    368\u001b[0m             \u001b[1;32mreturn\u001b[0m \u001b[0mSparkContext\u001b[0m\u001b[1;33m.\u001b[0m\u001b[0m_active_spark_context\u001b[0m\u001b[1;33m\u001b[0m\u001b[0m\n\u001b[0;32m    369\u001b[0m \u001b[1;33m\u001b[0m\u001b[0m\n",
      "\u001b[1;32m~\\Anaconda3\\lib\\site-packages\\pyspark\\context.py\u001b[0m in \u001b[0;36m__init__\u001b[1;34m(self, master, appName, sparkHome, pyFiles, environment, batchSize, serializer, conf, gateway, jsc, profiler_cls)\u001b[0m\n\u001b[0;32m    131\u001b[0m                     \" note this option will be removed in Spark 3.0\")\n\u001b[0;32m    132\u001b[0m \u001b[1;33m\u001b[0m\u001b[0m\n\u001b[1;32m--> 133\u001b[1;33m         \u001b[0mSparkContext\u001b[0m\u001b[1;33m.\u001b[0m\u001b[0m_ensure_initialized\u001b[0m\u001b[1;33m(\u001b[0m\u001b[0mself\u001b[0m\u001b[1;33m,\u001b[0m \u001b[0mgateway\u001b[0m\u001b[1;33m=\u001b[0m\u001b[0mgateway\u001b[0m\u001b[1;33m,\u001b[0m \u001b[0mconf\u001b[0m\u001b[1;33m=\u001b[0m\u001b[0mconf\u001b[0m\u001b[1;33m)\u001b[0m\u001b[1;33m\u001b[0m\u001b[0m\n\u001b[0m\u001b[0;32m    134\u001b[0m         \u001b[1;32mtry\u001b[0m\u001b[1;33m:\u001b[0m\u001b[1;33m\u001b[0m\u001b[0m\n\u001b[0;32m    135\u001b[0m             self._do_init(master, appName, sparkHome, pyFiles, environment, batchSize, serializer,\n",
      "\u001b[1;32m~\\Anaconda3\\lib\\site-packages\\pyspark\\context.py\u001b[0m in \u001b[0;36m_ensure_initialized\u001b[1;34m(cls, instance, gateway, conf)\u001b[0m\n\u001b[0;32m    314\u001b[0m         \u001b[1;32mwith\u001b[0m \u001b[0mSparkContext\u001b[0m\u001b[1;33m.\u001b[0m\u001b[0m_lock\u001b[0m\u001b[1;33m:\u001b[0m\u001b[1;33m\u001b[0m\u001b[0m\n\u001b[0;32m    315\u001b[0m             \u001b[1;32mif\u001b[0m \u001b[1;32mnot\u001b[0m \u001b[0mSparkContext\u001b[0m\u001b[1;33m.\u001b[0m\u001b[0m_gateway\u001b[0m\u001b[1;33m:\u001b[0m\u001b[1;33m\u001b[0m\u001b[0m\n\u001b[1;32m--> 316\u001b[1;33m                 \u001b[0mSparkContext\u001b[0m\u001b[1;33m.\u001b[0m\u001b[0m_gateway\u001b[0m \u001b[1;33m=\u001b[0m \u001b[0mgateway\u001b[0m \u001b[1;32mor\u001b[0m \u001b[0mlaunch_gateway\u001b[0m\u001b[1;33m(\u001b[0m\u001b[0mconf\u001b[0m\u001b[1;33m)\u001b[0m\u001b[1;33m\u001b[0m\u001b[0m\n\u001b[0m\u001b[0;32m    317\u001b[0m                 \u001b[0mSparkContext\u001b[0m\u001b[1;33m.\u001b[0m\u001b[0m_jvm\u001b[0m \u001b[1;33m=\u001b[0m \u001b[0mSparkContext\u001b[0m\u001b[1;33m.\u001b[0m\u001b[0m_gateway\u001b[0m\u001b[1;33m.\u001b[0m\u001b[0mjvm\u001b[0m\u001b[1;33m\u001b[0m\u001b[0m\n\u001b[0;32m    318\u001b[0m \u001b[1;33m\u001b[0m\u001b[0m\n",
      "\u001b[1;32m~\\Anaconda3\\lib\\site-packages\\pyspark\\java_gateway.py\u001b[0m in \u001b[0;36mlaunch_gateway\u001b[1;34m(conf)\u001b[0m\n\u001b[0;32m     44\u001b[0m     \u001b[1;33m:\u001b[0m\u001b[1;32mreturn\u001b[0m\u001b[1;33m:\u001b[0m \u001b[0ma\u001b[0m \u001b[0mJVM\u001b[0m \u001b[0mgateway\u001b[0m\u001b[1;33m\u001b[0m\u001b[0m\n\u001b[0;32m     45\u001b[0m     \"\"\"\n\u001b[1;32m---> 46\u001b[1;33m     \u001b[1;32mreturn\u001b[0m \u001b[0m_launch_gateway\u001b[0m\u001b[1;33m(\u001b[0m\u001b[0mconf\u001b[0m\u001b[1;33m)\u001b[0m\u001b[1;33m\u001b[0m\u001b[0m\n\u001b[0m\u001b[0;32m     47\u001b[0m \u001b[1;33m\u001b[0m\u001b[0m\n\u001b[0;32m     48\u001b[0m \u001b[1;33m\u001b[0m\u001b[0m\n",
      "\u001b[1;32m~\\Anaconda3\\lib\\site-packages\\pyspark\\java_gateway.py\u001b[0m in \u001b[0;36m_launch_gateway\u001b[1;34m(conf, insecure)\u001b[0m\n\u001b[0;32m    106\u001b[0m \u001b[1;33m\u001b[0m\u001b[0m\n\u001b[0;32m    107\u001b[0m             \u001b[1;32mif\u001b[0m \u001b[1;32mnot\u001b[0m \u001b[0mos\u001b[0m\u001b[1;33m.\u001b[0m\u001b[0mpath\u001b[0m\u001b[1;33m.\u001b[0m\u001b[0misfile\u001b[0m\u001b[1;33m(\u001b[0m\u001b[0mconn_info_file\u001b[0m\u001b[1;33m)\u001b[0m\u001b[1;33m:\u001b[0m\u001b[1;33m\u001b[0m\u001b[0m\n\u001b[1;32m--> 108\u001b[1;33m                 \u001b[1;32mraise\u001b[0m \u001b[0mException\u001b[0m\u001b[1;33m(\u001b[0m\u001b[1;34m\"Java gateway process exited before sending its port number\"\u001b[0m\u001b[1;33m)\u001b[0m\u001b[1;33m\u001b[0m\u001b[0m\n\u001b[0m\u001b[0;32m    109\u001b[0m \u001b[1;33m\u001b[0m\u001b[0m\n\u001b[0;32m    110\u001b[0m             \u001b[1;32mwith\u001b[0m \u001b[0mopen\u001b[0m\u001b[1;33m(\u001b[0m\u001b[0mconn_info_file\u001b[0m\u001b[1;33m,\u001b[0m \u001b[1;34m\"rb\"\u001b[0m\u001b[1;33m)\u001b[0m \u001b[1;32mas\u001b[0m \u001b[0minfo\u001b[0m\u001b[1;33m:\u001b[0m\u001b[1;33m\u001b[0m\u001b[0m\n",
      "\u001b[1;31mException\u001b[0m: Java gateway process exited before sending its port number"
     ]
    }
   ],
   "source": [
    "# create a Spark session\n",
    "spark = SparkSession.builder.appName('Sparkify_local').getOrCreate()"
   ]
  },
  {
   "cell_type": "code",
   "execution_count": 6,
   "metadata": {},
   "outputs": [
    {
     "data": {
      "text/plain": [
       "2"
      ]
     },
     "execution_count": 6,
     "metadata": {},
     "output_type": "execute_result"
    }
   ],
   "source": [
    "1+1"
   ]
  },
  {
   "cell_type": "markdown",
   "metadata": {},
   "source": [
    "# Load and Clean Dataset\n",
    "In this workspace, the mini-dataset file is `mini_sparkify_event_data.json`. Load and clean the dataset, checking for invalid or missing data - for example, records without userids or sessionids. "
   ]
  },
  {
   "cell_type": "code",
   "execution_count": 6,
   "metadata": {},
   "outputs": [],
   "source": [
    "df = spark.read.json('mini_sparkify_event_data.json')"
   ]
  },
  {
   "cell_type": "code",
   "execution_count": 7,
   "metadata": {},
   "outputs": [
    {
     "data": {
      "text/plain": [
       "[Row(artist='Martha Tilston', auth='Logged In', firstName='Colin', gender='M', itemInSession=50, lastName='Freeman', length=277.89016, level='paid', location='Bakersfield, CA', method='PUT', page='NextSong', registration=1538173362000, sessionId=29, song='Rockpools', status=200, ts=1538352117000, userAgent='Mozilla/5.0 (Windows NT 6.1; WOW64; rv:31.0) Gecko/20100101 Firefox/31.0', userId='30'),\n",
       " Row(artist='Five Iron Frenzy', auth='Logged In', firstName='Micah', gender='M', itemInSession=79, lastName='Long', length=236.09424, level='free', location='Boston-Cambridge-Newton, MA-NH', method='PUT', page='NextSong', registration=1538331630000, sessionId=8, song='Canada', status=200, ts=1538352180000, userAgent='\"Mozilla/5.0 (Windows NT 6.1; WOW64) AppleWebKit/537.36 (KHTML, like Gecko) Chrome/37.0.2062.103 Safari/537.36\"', userId='9'),\n",
       " Row(artist='Adam Lambert', auth='Logged In', firstName='Colin', gender='M', itemInSession=51, lastName='Freeman', length=282.8273, level='paid', location='Bakersfield, CA', method='PUT', page='NextSong', registration=1538173362000, sessionId=29, song='Time For Miracles', status=200, ts=1538352394000, userAgent='Mozilla/5.0 (Windows NT 6.1; WOW64; rv:31.0) Gecko/20100101 Firefox/31.0', userId='30'),\n",
       " Row(artist='Enigma', auth='Logged In', firstName='Micah', gender='M', itemInSession=80, lastName='Long', length=262.71302, level='free', location='Boston-Cambridge-Newton, MA-NH', method='PUT', page='NextSong', registration=1538331630000, sessionId=8, song='Knocking On Forbidden Doors', status=200, ts=1538352416000, userAgent='\"Mozilla/5.0 (Windows NT 6.1; WOW64) AppleWebKit/537.36 (KHTML, like Gecko) Chrome/37.0.2062.103 Safari/537.36\"', userId='9'),\n",
       " Row(artist='Daft Punk', auth='Logged In', firstName='Colin', gender='M', itemInSession=52, lastName='Freeman', length=223.60771, level='paid', location='Bakersfield, CA', method='PUT', page='NextSong', registration=1538173362000, sessionId=29, song='Harder Better Faster Stronger', status=200, ts=1538352676000, userAgent='Mozilla/5.0 (Windows NT 6.1; WOW64; rv:31.0) Gecko/20100101 Firefox/31.0', userId='30')]"
      ]
     },
     "execution_count": 7,
     "metadata": {},
     "output_type": "execute_result"
    }
   ],
   "source": [
    "df.head(5)"
   ]
  },
  {
   "cell_type": "code",
   "execution_count": 8,
   "metadata": {},
   "outputs": [
    {
     "data": {
      "text/plain": [
       "8346"
      ]
     },
     "execution_count": 8,
     "metadata": {},
     "output_type": "execute_result"
    }
   ],
   "source": [
    "df.filter(df['userId']=='').count()"
   ]
  },
  {
   "cell_type": "code",
   "execution_count": 9,
   "metadata": {},
   "outputs": [
    {
     "data": {
      "text/plain": [
       "0"
      ]
     },
     "execution_count": 9,
     "metadata": {},
     "output_type": "execute_result"
    }
   ],
   "source": [
    "df.filter(df['sessionId']=='').count()"
   ]
  },
  {
   "cell_type": "code",
   "execution_count": 10,
   "metadata": {},
   "outputs": [],
   "source": [
    "df_cleaned = df.filter(df['userId']!='')"
   ]
  },
  {
   "cell_type": "markdown",
   "metadata": {},
   "source": [
    "# Exploratory Data Analysis\n",
    "When you're working with the full dataset, perform EDA by loading a small subset of the data and doing basic manipulations within Spark. In this workspace, you are already provided a small subset of data you can explore.\n",
    "\n",
    "### Define Churn\n",
    "\n",
    "Once you've done some preliminary analysis, create a column `Churn` to use as the label for your model. I suggest using the `Cancellation Confirmation` events to define your churn, which happen for both paid and free users. As a bonus task, you can also look into the `Downgrade` events.\n",
    "\n",
    "### Explore Data\n",
    "Once you've defined churn, perform some exploratory data analysis to observe the behavior for users who stayed vs users who churned. You can start by exploring aggregates on these two groups of users, observing how much of a specific action they experienced per a certain time unit or number of songs played."
   ]
  },
  {
   "cell_type": "code",
   "execution_count": 11,
   "metadata": {
    "scrolled": true
   },
   "outputs": [
    {
     "data": {
      "text/plain": [
       "[Row(page='Cancel'),\n",
       " Row(page='Submit Downgrade'),\n",
       " Row(page='Thumbs Down'),\n",
       " Row(page='Home'),\n",
       " Row(page='Downgrade'),\n",
       " Row(page='Roll Advert'),\n",
       " Row(page='Logout'),\n",
       " Row(page='Save Settings'),\n",
       " Row(page='Cancellation Confirmation'),\n",
       " Row(page='About'),\n",
       " Row(page='Settings'),\n",
       " Row(page='Add to Playlist'),\n",
       " Row(page='Add Friend'),\n",
       " Row(page='NextSong'),\n",
       " Row(page='Thumbs Up'),\n",
       " Row(page='Help'),\n",
       " Row(page='Upgrade'),\n",
       " Row(page='Error'),\n",
       " Row(page='Submit Upgrade')]"
      ]
     },
     "execution_count": 11,
     "metadata": {},
     "output_type": "execute_result"
    }
   ],
   "source": [
    "df_cleaned.select(\"page\").dropDuplicates().collect()"
   ]
  },
  {
   "cell_type": "code",
   "execution_count": 12,
   "metadata": {},
   "outputs": [
    {
     "data": {
      "text/plain": [
       "[Row(UserID='30'),\n",
       " Row(UserID='9'),\n",
       " Row(UserID='30'),\n",
       " Row(UserID='9'),\n",
       " Row(UserID='30'),\n",
       " Row(UserID='9'),\n",
       " Row(UserID='9'),\n",
       " Row(UserID='30'),\n",
       " Row(UserID='30'),\n",
       " Row(UserID='30'),\n",
       " Row(UserID='9'),\n",
       " Row(UserID='9'),\n",
       " Row(UserID='30'),\n",
       " Row(UserID='9'),\n",
       " Row(UserID='9'),\n",
       " Row(UserID='30'),\n",
       " Row(UserID='9'),\n",
       " Row(UserID='74'),\n",
       " Row(UserID='30'),\n",
       " Row(UserID='9'),\n",
       " Row(UserID='74'),\n",
       " Row(UserID='30'),\n",
       " Row(UserID='54'),\n",
       " Row(UserID='9'),\n",
       " Row(UserID='74'),\n",
       " Row(UserID='30'),\n",
       " Row(UserID='54'),\n",
       " Row(UserID='9'),\n",
       " Row(UserID='74'),\n",
       " Row(UserID='30'),\n",
       " Row(UserID='54'),\n",
       " Row(UserID='9'),\n",
       " Row(UserID='30'),\n",
       " Row(UserID='74'),\n",
       " Row(UserID='54'),\n",
       " Row(UserID='54'),\n",
       " Row(UserID='30'),\n",
       " Row(UserID='9'),\n",
       " Row(UserID='30'),\n",
       " Row(UserID='54'),\n",
       " Row(UserID='74'),\n",
       " Row(UserID='9'),\n",
       " Row(UserID='74'),\n",
       " Row(UserID='54'),\n",
       " Row(UserID='54'),\n",
       " Row(UserID='30'),\n",
       " Row(UserID='9'),\n",
       " Row(UserID='9'),\n",
       " Row(UserID='74'),\n",
       " Row(UserID='30'),\n",
       " Row(UserID='9'),\n",
       " Row(UserID='9'),\n",
       " Row(UserID='9'),\n",
       " Row(UserID='9'),\n",
       " Row(UserID='74'),\n",
       " Row(UserID='30'),\n",
       " Row(UserID='74'),\n",
       " Row(UserID=''),\n",
       " Row(UserID=''),\n",
       " Row(UserID=''),\n",
       " Row(UserID=''),\n",
       " Row(UserID='9'),\n",
       " Row(UserID='9'),\n",
       " Row(UserID='30'),\n",
       " Row(UserID='74'),\n",
       " Row(UserID='9'),\n",
       " Row(UserID='74'),\n",
       " Row(UserID='9'),\n",
       " Row(UserID='30'),\n",
       " Row(UserID='74'),\n",
       " Row(UserID='30'),\n",
       " Row(UserID='30'),\n",
       " Row(UserID='74'),\n",
       " Row(UserID='9'),\n",
       " Row(UserID='4'),\n",
       " Row(UserID='4'),\n",
       " Row(UserID=''),\n",
       " Row(UserID=''),\n",
       " Row(UserID='4'),\n",
       " Row(UserID='30'),\n",
       " Row(UserID='74'),\n",
       " Row(UserID='74'),\n",
       " Row(UserID='74'),\n",
       " Row(UserID='4'),\n",
       " Row(UserID='30'),\n",
       " Row(UserID='9'),\n",
       " Row(UserID='4'),\n",
       " Row(UserID='74'),\n",
       " Row(UserID='74'),\n",
       " Row(UserID='4'),\n",
       " Row(UserID='9'),\n",
       " Row(UserID='9'),\n",
       " Row(UserID='30'),\n",
       " Row(UserID='4'),\n",
       " Row(UserID='74'),\n",
       " Row(UserID='9'),\n",
       " Row(UserID='30'),\n",
       " Row(UserID='4'),\n",
       " Row(UserID='74'),\n",
       " Row(UserID='9'),\n",
       " Row(UserID='30'),\n",
       " Row(UserID='30'),\n",
       " Row(UserID='4'),\n",
       " Row(UserID='9'),\n",
       " Row(UserID='74'),\n",
       " Row(UserID='74'),\n",
       " Row(UserID='30'),\n",
       " Row(UserID='30'),\n",
       " Row(UserID='4'),\n",
       " Row(UserID='9'),\n",
       " Row(UserID=''),\n",
       " Row(UserID='74'),\n",
       " Row(UserID='74'),\n",
       " Row(UserID='4'),\n",
       " Row(UserID='9'),\n",
       " Row(UserID='30'),\n",
       " Row(UserID='4'),\n",
       " Row(UserID='30'),\n",
       " Row(UserID='101'),\n",
       " Row(UserID='9'),\n",
       " Row(UserID='9'),\n",
       " Row(UserID='30'),\n",
       " Row(UserID='9'),\n",
       " Row(UserID='101'),\n",
       " Row(UserID='9'),\n",
       " Row(UserID='101'),\n",
       " Row(UserID='30'),\n",
       " Row(UserID='78'),\n",
       " Row(UserID='78'),\n",
       " Row(UserID='9'),\n",
       " Row(UserID='9'),\n",
       " Row(UserID='101'),\n",
       " Row(UserID='30'),\n",
       " Row(UserID='78'),\n",
       " Row(UserID='101'),\n",
       " Row(UserID='78'),\n",
       " Row(UserID='101'),\n",
       " Row(UserID='4'),\n",
       " Row(UserID='78'),\n",
       " Row(UserID='101'),\n",
       " Row(UserID='4'),\n",
       " Row(UserID='78'),\n",
       " Row(UserID='101'),\n",
       " Row(UserID='9'),\n",
       " Row(UserID='9'),\n",
       " Row(UserID='9'),\n",
       " Row(UserID=''),\n",
       " Row(UserID='88'),\n",
       " Row(UserID='88'),\n",
       " Row(UserID='4'),\n",
       " Row(UserID='101'),\n",
       " Row(UserID='9'),\n",
       " Row(UserID='9'),\n",
       " Row(UserID='78'),\n",
       " Row(UserID='4'),\n",
       " Row(UserID='101'),\n",
       " Row(UserID='88'),\n",
       " Row(UserID='78'),\n",
       " Row(UserID='78'),\n",
       " Row(UserID='4'),\n",
       " Row(UserID='101'),\n",
       " Row(UserID='30'),\n",
       " Row(UserID='78'),\n",
       " Row(UserID='30'),\n",
       " Row(UserID='88'),\n",
       " Row(UserID='4'),\n",
       " Row(UserID='30'),\n",
       " Row(UserID='88'),\n",
       " Row(UserID='88'),\n",
       " Row(UserID='101'),\n",
       " Row(UserID='78'),\n",
       " Row(UserID='4'),\n",
       " Row(UserID='30'),\n",
       " Row(UserID='88'),\n",
       " Row(UserID='88'),\n",
       " Row(UserID='101'),\n",
       " Row(UserID='101'),\n",
       " Row(UserID='78'),\n",
       " Row(UserID='4'),\n",
       " Row(UserID='30'),\n",
       " Row(UserID='101'),\n",
       " Row(UserID='78'),\n",
       " Row(UserID='78'),\n",
       " Row(UserID=''),\n",
       " Row(UserID=''),\n",
       " Row(UserID='30'),\n",
       " Row(UserID='101'),\n",
       " Row(UserID='78'),\n",
       " Row(UserID='30'),\n",
       " Row(UserID='4'),\n",
       " Row(UserID='101'),\n",
       " Row(UserID='78'),\n",
       " Row(UserID='78'),\n",
       " Row(UserID='4'),\n",
       " Row(UserID='78'),\n",
       " Row(UserID='78'),\n",
       " Row(UserID=''),\n",
       " Row(UserID=''),\n",
       " Row(UserID=''),\n",
       " Row(UserID='78'),\n",
       " Row(UserID='78'),\n",
       " Row(UserID='78'),\n",
       " Row(UserID='101'),\n",
       " Row(UserID='101'),\n",
       " Row(UserID='78'),\n",
       " Row(UserID='78'),\n",
       " Row(UserID='101'),\n",
       " Row(UserID='78'),\n",
       " Row(UserID='78'),\n",
       " Row(UserID='101'),\n",
       " Row(UserID='78'),\n",
       " Row(UserID='78'),\n",
       " Row(UserID=''),\n",
       " Row(UserID=''),\n",
       " Row(UserID=''),\n",
       " Row(UserID='78'),\n",
       " Row(UserID='101'),\n",
       " Row(UserID='78'),\n",
       " Row(UserID='101'),\n",
       " Row(UserID='101'),\n",
       " Row(UserID='78'),\n",
       " Row(UserID='101'),\n",
       " Row(UserID='78'),\n",
       " Row(UserID='78'),\n",
       " Row(UserID=''),\n",
       " Row(UserID=''),\n",
       " Row(UserID='78'),\n",
       " Row(UserID='78'),\n",
       " Row(UserID='101'),\n",
       " Row(UserID='78'),\n",
       " Row(UserID=''),\n",
       " Row(UserID='78'),\n",
       " Row(UserID='78'),\n",
       " Row(UserID='101'),\n",
       " Row(UserID='78'),\n",
       " Row(UserID='78'),\n",
       " Row(UserID='78'),\n",
       " Row(UserID='101'),\n",
       " Row(UserID='78'),\n",
       " Row(UserID='101'),\n",
       " Row(UserID='101'),\n",
       " Row(UserID='78'),\n",
       " Row(UserID='78'),\n",
       " Row(UserID='101'),\n",
       " Row(UserID='78'),\n",
       " Row(UserID='101'),\n",
       " Row(UserID='78'),\n",
       " Row(UserID='78'),\n",
       " Row(UserID='101'),\n",
       " Row(UserID='101'),\n",
       " Row(UserID='78'),\n",
       " Row(UserID='95'),\n",
       " Row(UserID='101'),\n",
       " Row(UserID='101'),\n",
       " Row(UserID='78'),\n",
       " Row(UserID='95'),\n",
       " Row(UserID='101'),\n",
       " Row(UserID='95'),\n",
       " Row(UserID='78'),\n",
       " Row(UserID='101'),\n",
       " Row(UserID='95'),\n",
       " Row(UserID='78'),\n",
       " Row(UserID='95'),\n",
       " Row(UserID='78'),\n",
       " Row(UserID='95'),\n",
       " Row(UserID='101'),\n",
       " Row(UserID='78'),\n",
       " Row(UserID='95'),\n",
       " Row(UserID='95'),\n",
       " Row(UserID='78'),\n",
       " Row(UserID='78'),\n",
       " Row(UserID='101'),\n",
       " Row(UserID='78'),\n",
       " Row(UserID='95'),\n",
       " Row(UserID='101'),\n",
       " Row(UserID='25'),\n",
       " Row(UserID='25'),\n",
       " Row(UserID='78'),\n",
       " Row(UserID='25'),\n",
       " Row(UserID='78'),\n",
       " Row(UserID='101'),\n",
       " Row(UserID='25'),\n",
       " Row(UserID='78'),\n",
       " Row(UserID='101'),\n",
       " Row(UserID='95'),\n",
       " Row(UserID='25'),\n",
       " Row(UserID='25'),\n",
       " Row(UserID='25'),\n",
       " Row(UserID='78'),\n",
       " Row(UserID='95'),\n",
       " Row(UserID='95'),\n",
       " Row(UserID='25'),\n",
       " Row(UserID='101'),\n",
       " Row(UserID='95'),\n",
       " Row(UserID='78'),\n",
       " Row(UserID='78'),\n",
       " Row(UserID='25'),\n",
       " Row(UserID='95'),\n",
       " Row(UserID='78'),\n",
       " Row(UserID='101'),\n",
       " Row(UserID='101'),\n",
       " Row(UserID='25'),\n",
       " Row(UserID=''),\n",
       " Row(UserID='95'),\n",
       " Row(UserID='78'),\n",
       " Row(UserID='25'),\n",
       " Row(UserID='95'),\n",
       " Row(UserID='95'),\n",
       " Row(UserID='95'),\n",
       " Row(UserID='78'),\n",
       " Row(UserID='25'),\n",
       " Row(UserID='95'),\n",
       " Row(UserID='78'),\n",
       " Row(UserID='95'),\n",
       " Row(UserID='95'),\n",
       " Row(UserID='25'),\n",
       " Row(UserID='25'),\n",
       " Row(UserID='78'),\n",
       " Row(UserID='25'),\n",
       " Row(UserID='78'),\n",
       " Row(UserID='95'),\n",
       " Row(UserID='25'),\n",
       " Row(UserID='78'),\n",
       " Row(UserID='78'),\n",
       " Row(UserID='95'),\n",
       " Row(UserID='25'),\n",
       " Row(UserID='142'),\n",
       " Row(UserID='142'),\n",
       " Row(UserID='78'),\n",
       " Row(UserID='95'),\n",
       " Row(UserID='13'),\n",
       " Row(UserID='142'),\n",
       " Row(UserID='78'),\n",
       " Row(UserID='95'),\n",
       " Row(UserID='25'),\n",
       " Row(UserID='142'),\n",
       " Row(UserID='78'),\n",
       " Row(UserID='95'),\n",
       " Row(UserID='25'),\n",
       " Row(UserID='13'),\n",
       " Row(UserID='142'),\n",
       " Row(UserID='95'),\n",
       " Row(UserID='95'),\n",
       " Row(UserID='13'),\n",
       " Row(UserID='45'),\n",
       " Row(UserID='25'),\n",
       " Row(UserID='13'),\n",
       " Row(UserID='13'),\n",
       " Row(UserID='142'),\n",
       " Row(UserID='78'),\n",
       " Row(UserID='78'),\n",
       " Row(UserID='25'),\n",
       " Row(UserID='142'),\n",
       " Row(UserID='13'),\n",
       " Row(UserID='45'),\n",
       " Row(UserID='78'),\n",
       " Row(UserID='95'),\n",
       " Row(UserID='95'),\n",
       " Row(UserID='25'),\n",
       " Row(UserID='142'),\n",
       " Row(UserID='13'),\n",
       " Row(UserID='13'),\n",
       " Row(UserID=''),\n",
       " Row(UserID=''),\n",
       " Row(UserID='13'),\n",
       " Row(UserID='78'),\n",
       " Row(UserID='95'),\n",
       " Row(UserID='45'),\n",
       " Row(UserID='45'),\n",
       " Row(UserID=''),\n",
       " Row(UserID='142'),\n",
       " Row(UserID='142'),\n",
       " Row(UserID='25'),\n",
       " Row(UserID='142'),\n",
       " Row(UserID='142'),\n",
       " Row(UserID='78'),\n",
       " Row(UserID='78'),\n",
       " Row(UserID='95'),\n",
       " Row(UserID='95'),\n",
       " Row(UserID='25'),\n",
       " Row(UserID='142'),\n",
       " Row(UserID='142'),\n",
       " Row(UserID='78'),\n",
       " Row(UserID='95'),\n",
       " Row(UserID='142'),\n",
       " Row(UserID='78'),\n",
       " Row(UserID='78'),\n",
       " Row(UserID='25'),\n",
       " Row(UserID='142'),\n",
       " Row(UserID='95'),\n",
       " Row(UserID='142'),\n",
       " Row(UserID='25'),\n",
       " Row(UserID='95'),\n",
       " Row(UserID='142'),\n",
       " Row(UserID='25'),\n",
       " Row(UserID='95'),\n",
       " Row(UserID='142'),\n",
       " Row(UserID='142'),\n",
       " Row(UserID='95'),\n",
       " Row(UserID='25'),\n",
       " Row(UserID='142'),\n",
       " Row(UserID='95'),\n",
       " Row(UserID='25'),\n",
       " Row(UserID='142'),\n",
       " Row(UserID='142'),\n",
       " Row(UserID='25'),\n",
       " Row(UserID=''),\n",
       " Row(UserID=''),\n",
       " Row(UserID='95'),\n",
       " Row(UserID='25'),\n",
       " Row(UserID='39'),\n",
       " Row(UserID='39'),\n",
       " Row(UserID='142'),\n",
       " Row(UserID='39'),\n",
       " Row(UserID='95'),\n",
       " Row(UserID='95'),\n",
       " Row(UserID='25'),\n",
       " Row(UserID='142'),\n",
       " Row(UserID='25'),\n",
       " Row(UserID='95'),\n",
       " Row(UserID='39'),\n",
       " Row(UserID='142'),\n",
       " Row(UserID='39'),\n",
       " Row(UserID=''),\n",
       " Row(UserID='87'),\n",
       " Row(UserID='25'),\n",
       " Row(UserID='95'),\n",
       " Row(UserID='142'),\n",
       " Row(UserID='87'),\n",
       " Row(UserID='39'),\n",
       " Row(UserID='25'),\n",
       " Row(UserID='142'),\n",
       " Row(UserID='39'),\n",
       " Row(UserID='95'),\n",
       " Row(UserID='25'),\n",
       " Row(UserID='142'),\n",
       " Row(UserID='39'),\n",
       " Row(UserID='95'),\n",
       " Row(UserID='39'),\n",
       " Row(UserID='25'),\n",
       " Row(UserID='95'),\n",
       " Row(UserID='95'),\n",
       " Row(UserID='25'),\n",
       " Row(UserID='25'),\n",
       " Row(UserID='142'),\n",
       " Row(UserID='87'),\n",
       " Row(UserID='39'),\n",
       " Row(UserID=''),\n",
       " Row(UserID=''),\n",
       " Row(UserID='28'),\n",
       " Row(UserID='28'),\n",
       " Row(UserID='95'),\n",
       " Row(UserID='25'),\n",
       " Row(UserID='142'),\n",
       " Row(UserID='39'),\n",
       " Row(UserID='28'),\n",
       " Row(UserID='87'),\n",
       " Row(UserID='25'),\n",
       " Row(UserID='39'),\n",
       " Row(UserID='39'),\n",
       " Row(UserID='95'),\n",
       " Row(UserID='87'),\n",
       " Row(UserID='142'),\n",
       " Row(UserID='95'),\n",
       " Row(UserID='39'),\n",
       " Row(UserID='28'),\n",
       " Row(UserID='87'),\n",
       " Row(UserID='28'),\n",
       " Row(UserID='28'),\n",
       " Row(UserID=''),\n",
       " Row(UserID='25'),\n",
       " Row(UserID='95'),\n",
       " Row(UserID='142'),\n",
       " Row(UserID='87'),\n",
       " Row(UserID='87'),\n",
       " Row(UserID='39'),\n",
       " Row(UserID='39'),\n",
       " Row(UserID='25'),\n",
       " Row(UserID='95'),\n",
       " Row(UserID='142'),\n",
       " Row(UserID='142'),\n",
       " Row(UserID='95'),\n",
       " Row(UserID='25'),\n",
       " Row(UserID='39'),\n",
       " Row(UserID='142'),\n",
       " Row(UserID='95'),\n",
       " Row(UserID='25'),\n",
       " Row(UserID='87'),\n",
       " Row(UserID='39'),\n",
       " Row(UserID='142'),\n",
       " Row(UserID='87'),\n",
       " Row(UserID='95'),\n",
       " Row(UserID='95'),\n",
       " Row(UserID='142'),\n",
       " Row(UserID='39'),\n",
       " Row(UserID='25'),\n",
       " Row(UserID='142'),\n",
       " Row(UserID='87'),\n",
       " Row(UserID='95'),\n",
       " Row(UserID='39'),\n",
       " Row(UserID='25'),\n",
       " Row(UserID='87'),\n",
       " Row(UserID='142'),\n",
       " Row(UserID='95'),\n",
       " Row(UserID='142'),\n",
       " Row(UserID='39'),\n",
       " Row(UserID='39'),\n",
       " Row(UserID='25'),\n",
       " Row(UserID=''),\n",
       " Row(UserID='95'),\n",
       " Row(UserID=''),\n",
       " Row(UserID=''),\n",
       " Row(UserID='39'),\n",
       " Row(UserID='142'),\n",
       " Row(UserID='142'),\n",
       " Row(UserID='87'),\n",
       " Row(UserID='39'),\n",
       " Row(UserID='25'),\n",
       " Row(UserID='95'),\n",
       " Row(UserID='87'),\n",
       " Row(UserID='25'),\n",
       " Row(UserID='25'),\n",
       " Row(UserID='39'),\n",
       " Row(UserID='39'),\n",
       " Row(UserID='95'),\n",
       " Row(UserID='142'),\n",
       " Row(UserID='87'),\n",
       " Row(UserID='142'),\n",
       " Row(UserID='25'),\n",
       " Row(UserID='25'),\n",
       " Row(UserID='39'),\n",
       " Row(UserID='39'),\n",
       " Row(UserID='95'),\n",
       " Row(UserID='25'),\n",
       " Row(UserID='87'),\n",
       " Row(UserID='95'),\n",
       " Row(UserID='25'),\n",
       " Row(UserID='39'),\n",
       " Row(UserID='87'),\n",
       " Row(UserID='25'),\n",
       " Row(UserID='39'),\n",
       " Row(UserID='25'),\n",
       " Row(UserID='142'),\n",
       " Row(UserID='87'),\n",
       " Row(UserID='95'),\n",
       " Row(UserID='87'),\n",
       " Row(UserID='39'),\n",
       " Row(UserID='39'),\n",
       " Row(UserID='142'),\n",
       " Row(UserID='95'),\n",
       " Row(UserID='95'),\n",
       " Row(UserID='142'),\n",
       " Row(UserID='142'),\n",
       " Row(UserID=''),\n",
       " Row(UserID=''),\n",
       " Row(UserID='142'),\n",
       " Row(UserID='39'),\n",
       " Row(UserID='142'),\n",
       " Row(UserID='25'),\n",
       " Row(UserID='95'),\n",
       " Row(UserID='142'),\n",
       " Row(UserID='39'),\n",
       " Row(UserID='25'),\n",
       " Row(UserID='25'),\n",
       " Row(UserID='95'),\n",
       " Row(UserID='142'),\n",
       " Row(UserID='25'),\n",
       " Row(UserID='39'),\n",
       " Row(UserID='95'),\n",
       " Row(UserID='95'),\n",
       " Row(UserID='142'),\n",
       " Row(UserID='142'),\n",
       " Row(UserID=''),\n",
       " Row(UserID=''),\n",
       " Row(UserID='25'),\n",
       " Row(UserID='95'),\n",
       " Row(UserID='142'),\n",
       " Row(UserID='95'),\n",
       " Row(UserID='25'),\n",
       " Row(UserID='142'),\n",
       " Row(UserID='39'),\n",
       " Row(UserID='95'),\n",
       " Row(UserID='25'),\n",
       " Row(UserID='142'),\n",
       " Row(UserID='39'),\n",
       " Row(UserID='25'),\n",
       " Row(UserID='95'),\n",
       " Row(UserID='142'),\n",
       " Row(UserID='39'),\n",
       " Row(UserID='25'),\n",
       " Row(UserID='95'),\n",
       " Row(UserID='142'),\n",
       " Row(UserID='39'),\n",
       " Row(UserID='25'),\n",
       " Row(UserID='142'),\n",
       " Row(UserID='25'),\n",
       " Row(UserID='39'),\n",
       " Row(UserID='95'),\n",
       " Row(UserID='39'),\n",
       " Row(UserID='142'),\n",
       " Row(UserID='25'),\n",
       " Row(UserID='25'),\n",
       " Row(UserID='142'),\n",
       " Row(UserID='39'),\n",
       " Row(UserID='95'),\n",
       " Row(UserID='142'),\n",
       " Row(UserID='25'),\n",
       " Row(UserID='25'),\n",
       " Row(UserID='95'),\n",
       " Row(UserID='131'),\n",
       " Row(UserID='142'),\n",
       " Row(UserID='142'),\n",
       " Row(UserID='25'),\n",
       " Row(UserID='39'),\n",
       " Row(UserID='142'),\n",
       " Row(UserID='25'),\n",
       " Row(UserID='95'),\n",
       " Row(UserID='39'),\n",
       " Row(UserID='131'),\n",
       " Row(UserID='142'),\n",
       " Row(UserID='39'),\n",
       " Row(UserID='39'),\n",
       " Row(UserID='25'),\n",
       " Row(UserID='25'),\n",
       " Row(UserID='25'),\n",
       " Row(UserID='25'),\n",
       " Row(UserID='142'),\n",
       " Row(UserID='95'),\n",
       " Row(UserID='25'),\n",
       " Row(UserID='131'),\n",
       " Row(UserID='39'),\n",
       " Row(UserID='39'),\n",
       " Row(UserID='95'),\n",
       " Row(UserID='131'),\n",
       " Row(UserID='142'),\n",
       " Row(UserID='25'),\n",
       " Row(UserID='39'),\n",
       " Row(UserID='131'),\n",
       " Row(UserID='25'),\n",
       " Row(UserID='131'),\n",
       " Row(UserID='142'),\n",
       " Row(UserID='39'),\n",
       " Row(UserID='25'),\n",
       " Row(UserID='95'),\n",
       " Row(UserID='25'),\n",
       " Row(UserID='25'),\n",
       " Row(UserID='142'),\n",
       " Row(UserID='39'),\n",
       " Row(UserID='95'),\n",
       " Row(UserID='142'),\n",
       " Row(UserID='131'),\n",
       " Row(UserID='39'),\n",
       " Row(UserID='95'),\n",
       " Row(UserID='142'),\n",
       " Row(UserID='131'),\n",
       " Row(UserID='25'),\n",
       " Row(UserID='39'),\n",
       " Row(UserID='39'),\n",
       " Row(UserID='95'),\n",
       " Row(UserID='142'),\n",
       " Row(UserID='131'),\n",
       " Row(UserID='25'),\n",
       " Row(UserID='39'),\n",
       " Row(UserID='142'),\n",
       " Row(UserID='25'),\n",
       " Row(UserID='95'),\n",
       " Row(UserID='131'),\n",
       " Row(UserID='25'),\n",
       " Row(UserID='39'),\n",
       " Row(UserID='95'),\n",
       " Row(UserID='131'),\n",
       " Row(UserID='126'),\n",
       " Row(UserID='126'),\n",
       " Row(UserID='25'),\n",
       " Row(UserID='95'),\n",
       " Row(UserID='39'),\n",
       " Row(UserID='142'),\n",
       " Row(UserID='39'),\n",
       " Row(UserID='131'),\n",
       " Row(UserID='142'),\n",
       " Row(UserID='25'),\n",
       " Row(UserID='25'),\n",
       " Row(UserID='25'),\n",
       " Row(UserID='25'),\n",
       " Row(UserID='126'),\n",
       " Row(UserID='25'),\n",
       " Row(UserID='39'),\n",
       " Row(UserID='95'),\n",
       " Row(UserID='25'),\n",
       " Row(UserID='142'),\n",
       " Row(UserID='25'),\n",
       " Row(UserID='39'),\n",
       " Row(UserID='131'),\n",
       " Row(UserID='126'),\n",
       " Row(UserID='95'),\n",
       " Row(UserID='126'),\n",
       " Row(UserID='142'),\n",
       " Row(UserID='39'),\n",
       " Row(UserID='25'),\n",
       " Row(UserID='131'),\n",
       " Row(UserID='126'),\n",
       " Row(UserID='95'),\n",
       " Row(UserID='95'),\n",
       " Row(UserID='146'),\n",
       " Row(UserID='25'),\n",
       " Row(UserID='126'),\n",
       " Row(UserID='39'),\n",
       " Row(UserID='146'),\n",
       " Row(UserID='131'),\n",
       " Row(UserID='25'),\n",
       " Row(UserID='25'),\n",
       " Row(UserID='95'),\n",
       " Row(UserID='95'),\n",
       " Row(UserID=''),\n",
       " Row(UserID=''),\n",
       " Row(UserID='95'),\n",
       " Row(UserID='39'),\n",
       " Row(UserID='131'),\n",
       " Row(UserID='146'),\n",
       " Row(UserID='142'),\n",
       " Row(UserID='126'),\n",
       " Row(UserID='25'),\n",
       " Row(UserID='39'),\n",
       " Row(UserID='95'),\n",
       " Row(UserID=''),\n",
       " Row(UserID=''),\n",
       " Row(UserID='146'),\n",
       " Row(UserID='131'),\n",
       " Row(UserID='142'),\n",
       " Row(UserID='39'),\n",
       " Row(UserID='25'),\n",
       " Row(UserID='131'),\n",
       " Row(UserID='126'),\n",
       " Row(UserID='95'),\n",
       " Row(UserID='131'),\n",
       " Row(UserID='142'),\n",
       " Row(UserID='142'),\n",
       " Row(UserID='146'),\n",
       " Row(UserID='146'),\n",
       " Row(UserID='95'),\n",
       " Row(UserID='39'),\n",
       " Row(UserID='146'),\n",
       " Row(UserID='146'),\n",
       " Row(UserID='131'),\n",
       " Row(UserID=''),\n",
       " Row(UserID=''),\n",
       " Row(UserID='142'),\n",
       " Row(UserID='59'),\n",
       " Row(UserID='126'),\n",
       " Row(UserID='95'),\n",
       " Row(UserID='146'),\n",
       " Row(UserID='131'),\n",
       " Row(UserID='142'),\n",
       " Row(UserID='131'),\n",
       " Row(UserID=''),\n",
       " Row(UserID='15'),\n",
       " Row(UserID='95'),\n",
       " Row(UserID='39'),\n",
       " Row(UserID='15'),\n",
       " Row(UserID='146'),\n",
       " Row(UserID='146'),\n",
       " Row(UserID='15'),\n",
       " Row(UserID='59'),\n",
       " Row(UserID='39'),\n",
       " Row(UserID='131'),\n",
       " Row(UserID='131'),\n",
       " Row(UserID='142'),\n",
       " Row(UserID='95'),\n",
       " Row(UserID='39'),\n",
       " Row(UserID='95'),\n",
       " Row(UserID='39'),\n",
       " Row(UserID='146'),\n",
       " Row(UserID='15'),\n",
       " Row(UserID='131'),\n",
       " Row(UserID='142'),\n",
       " Row(UserID='59'),\n",
       " Row(UserID='131'),\n",
       " Row(UserID='131'),\n",
       " Row(UserID='131'),\n",
       " Row(UserID='146'),\n",
       " Row(UserID='131'),\n",
       " Row(UserID='39'),\n",
       " Row(UserID='39'),\n",
       " Row(UserID=''),\n",
       " Row(UserID=''),\n",
       " Row(UserID='15'),\n",
       " Row(UserID='142'),\n",
       " Row(UserID='59'),\n",
       " Row(UserID='39'),\n",
       " Row(UserID='95'),\n",
       " Row(UserID='39'),\n",
       " Row(UserID='131'),\n",
       " Row(UserID='131'),\n",
       " Row(UserID='142'),\n",
       " Row(UserID='59'),\n",
       " Row(UserID='59'),\n",
       " Row(UserID='146'),\n",
       " Row(UserID='146'),\n",
       " Row(UserID='88'),\n",
       " Row(UserID='88'),\n",
       " Row(UserID='15'),\n",
       " Row(UserID=''),\n",
       " Row(UserID=''),\n",
       " Row(UserID=''),\n",
       " Row(UserID='95'),\n",
       " Row(UserID='39'),\n",
       " Row(UserID='131'),\n",
       " Row(UserID='142'),\n",
       " Row(UserID='59'),\n",
       " Row(UserID='88'),\n",
       " Row(UserID='95'),\n",
       " Row(UserID='95'),\n",
       " Row(UserID='131'),\n",
       " Row(UserID='15'),\n",
       " Row(UserID='146'),\n",
       " Row(UserID='146'),\n",
       " Row(UserID='142'),\n",
       " Row(UserID='95'),\n",
       " Row(UserID=''),\n",
       " Row(UserID=''),\n",
       " Row(UserID='142'),\n",
       " Row(UserID='131'),\n",
       " Row(UserID='15'),\n",
       " Row(UserID='59'),\n",
       " Row(UserID='146'),\n",
       " Row(UserID='146'),\n",
       " Row(UserID='15'),\n",
       " Row(UserID='131'),\n",
       " Row(UserID='95'),\n",
       " Row(UserID='146'),\n",
       " Row(UserID='36'),\n",
       " Row(UserID='142'),\n",
       " Row(UserID='142'),\n",
       " Row(UserID='36'),\n",
       " Row(UserID='36'),\n",
       " Row(UserID='131'),\n",
       " Row(UserID='146'),\n",
       " Row(UserID='15'),\n",
       " Row(UserID='95'),\n",
       " Row(UserID='59'),\n",
       " Row(UserID='142'),\n",
       " Row(UserID='36'),\n",
       " Row(UserID='15'),\n",
       " Row(UserID='15'),\n",
       " Row(UserID='131'),\n",
       " Row(UserID='146'),\n",
       " Row(UserID='146'),\n",
       " Row(UserID='95'),\n",
       " Row(UserID='59'),\n",
       " Row(UserID='142'),\n",
       " Row(UserID='36'),\n",
       " Row(UserID='59'),\n",
       " Row(UserID='131'),\n",
       " Row(UserID='142'),\n",
       " Row(UserID='142'),\n",
       " Row(UserID='146'),\n",
       " Row(UserID='15'),\n",
       " Row(UserID='36'),\n",
       " Row(UserID=''),\n",
       " Row(UserID=''),\n",
       " Row(UserID='59'),\n",
       " Row(UserID='142'),\n",
       " Row(UserID='142'),\n",
       " Row(UserID='146'),\n",
       " Row(UserID='15'),\n",
       " Row(UserID='36'),\n",
       " Row(UserID='131'),\n",
       " Row(UserID='59'),\n",
       " Row(UserID='126'),\n",
       " Row(UserID='36'),\n",
       " Row(UserID='146'),\n",
       " Row(UserID='95'),\n",
       " Row(UserID='146'),\n",
       " Row(UserID='15'),\n",
       " Row(UserID='131'),\n",
       " Row(UserID='59'),\n",
       " Row(UserID='126'),\n",
       " Row(UserID='126'),\n",
       " Row(UserID='95'),\n",
       " Row(UserID='95'),\n",
       " Row(UserID='142'),\n",
       " Row(UserID='36'),\n",
       " Row(UserID='146'),\n",
       " Row(UserID='36'),\n",
       " Row(UserID='15'),\n",
       " Row(UserID='59'),\n",
       " Row(UserID='126'),\n",
       " Row(UserID='95'),\n",
       " Row(UserID='131'),\n",
       " Row(UserID='131'),\n",
       " Row(UserID='36'),\n",
       " Row(UserID='36'),\n",
       " Row(UserID='142'),\n",
       " Row(UserID='146'),\n",
       " Row(UserID='146'),\n",
       " Row(UserID='59'),\n",
       " Row(UserID='126'),\n",
       " Row(UserID='126'),\n",
       " Row(UserID='95'),\n",
       " Row(UserID='95'),\n",
       " Row(UserID='95'),\n",
       " Row(UserID='95'),\n",
       " Row(UserID='95'),\n",
       " Row(UserID='131'),\n",
       " Row(UserID='131'),\n",
       " Row(UserID='36'),\n",
       " Row(UserID='36'),\n",
       " Row(UserID='142'),\n",
       " Row(UserID='142'),\n",
       " Row(UserID='59'),\n",
       " Row(UserID='126'),\n",
       " Row(UserID='126'),\n",
       " Row(UserID='142'),\n",
       " Row(UserID='126'),\n",
       " Row(UserID='131'),\n",
       " Row(UserID='95'),\n",
       " Row(UserID='36'),\n",
       " Row(UserID='36'),\n",
       " Row(UserID='146'),\n",
       " Row(UserID='59'),\n",
       " Row(UserID='59'),\n",
       " Row(UserID='120'),\n",
       " Row(UserID='15'),\n",
       " Row(UserID='95'),\n",
       " Row(UserID='142'),\n",
       " Row(UserID='126'),\n",
       " Row(UserID='131'),\n",
       " Row(UserID='36'),\n",
       " Row(UserID='59'),\n",
       " Row(UserID='131'),\n",
       " Row(UserID='131'),\n",
       " Row(UserID='95'),\n",
       " Row(UserID='95'),\n",
       " Row(UserID='146'),\n",
       " Row(UserID='142'),\n",
       " Row(UserID='126'),\n",
       " Row(UserID='36'),\n",
       " Row(UserID='15'),\n",
       " Row(UserID='59'),\n",
       " Row(UserID='131'),\n",
       " Row(UserID='120'),\n",
       " Row(UserID='59'),\n",
       " Row(UserID='120'),\n",
       " Row(UserID='120'),\n",
       " Row(UserID='131'),\n",
       " Row(UserID='142'),\n",
       " Row(UserID='95'),\n",
       " Row(UserID='126'),\n",
       " Row(UserID='146'),\n",
       " Row(UserID='15'),\n",
       " Row(UserID='59'),\n",
       " Row(UserID='36'),\n",
       " Row(UserID='120'),\n",
       " Row(UserID='36'),\n",
       " Row(UserID='142'),\n",
       " Row(UserID='131'),\n",
       " Row(UserID='126'),\n",
       " Row(UserID='95'),\n",
       " Row(UserID='142'),\n",
       " Row(UserID='146'),\n",
       " Row(UserID='15'),\n",
       " Row(UserID='59'),\n",
       " Row(UserID='36'),\n",
       " Row(UserID='131'),\n",
       " Row(UserID='120'),\n",
       " Row(UserID='95'),\n",
       " Row(UserID='15'),\n",
       " Row(UserID='126'),\n",
       " Row(UserID='36'),\n",
       " Row(UserID='36'),\n",
       " Row(UserID='142'),\n",
       " Row(UserID='59'),\n",
       " Row(UserID='146'),\n",
       " Row(UserID='120'),\n",
       " Row(UserID='36'),\n",
       " Row(UserID='126'),\n",
       " Row(UserID='146'),\n",
       " Row(UserID='15'),\n",
       " Row(UserID='59'),\n",
       " Row(UserID='131'),\n",
       " Row(UserID='142'),\n",
       " Row(UserID='120'),\n",
       " Row(UserID='126'),\n",
       " Row(UserID='36'),\n",
       " Row(UserID='142'),\n",
       " Row(UserID='15'),\n",
       " Row(UserID='95'),\n",
       " Row(UserID='146'),\n",
       " Row(UserID='146'),\n",
       " Row(UserID='131'),\n",
       " Row(UserID='59'),\n",
       " Row(UserID='120'),\n",
       " Row(UserID='142'),\n",
       " Row(UserID='142'),\n",
       " Row(UserID='126'),\n",
       " Row(UserID='142'),\n",
       " Row(UserID='146'),\n",
       " Row(UserID='15'),\n",
       " Row(UserID='36'),\n",
       " Row(UserID='36'),\n",
       " ...]"
      ]
     },
     "execution_count": 12,
     "metadata": {},
     "output_type": "execute_result"
    }
   ],
   "source": [
    "df.select(['UserID']).collect()"
   ]
  },
  {
   "cell_type": "code",
   "execution_count": 13,
   "metadata": {},
   "outputs": [],
   "source": [
    "#mark user with churn event\n",
    "flag_event = udf(lambda x : 1 if x=='Cancellation Confirmation' else 0, IntegerType())\n",
    "df_cleaned_churn = df_cleaned.withColumn('Churn_state',flag_event('page'))\n",
    "userwindow = Window.partitionBy('userId').rangeBetween(Window.unboundedPreceding,Window.unboundedFollowing)\n",
    "df_cleaned_churn = df_cleaned_churn.withColumn('Churn',fmax('Churn_state').over(userwindow))"
   ]
  },
  {
   "cell_type": "code",
   "execution_count": 14,
   "metadata": {},
   "outputs": [
    {
     "data": {
      "text/plain": [
       "Row(artist='Sleeping With Sirens', auth='Logged In', firstName='Darianna', gender='F', itemInSession=0, lastName='Carpenter', length=202.97098, level='free', location='Bridgeport-Stamford-Norwalk, CT', method='PUT', page='NextSong', registration=1538016340000, sessionId=31, song='Captain Tyin Knots VS Mr Walkway (No Way)', status=200, ts=1539003534000, userAgent='\"Mozilla/5.0 (iPhone; CPU iPhone OS 7_1_2 like Mac OS X) AppleWebKit/537.51.2 (KHTML, like Gecko) Version/7.0 Mobile/11D257 Safari/9537.53\"', userId='100010', Churn_state=0, Churn=0)"
      ]
     },
     "execution_count": 14,
     "metadata": {},
     "output_type": "execute_result"
    }
   ],
   "source": [
    "df_cleaned_churn.head()"
   ]
  },
  {
   "cell_type": "code",
   "execution_count": 15,
   "metadata": {},
   "outputs": [],
   "source": [
    "aa = df_cleaned_churn.select([\"userId\", \"Churn\"]).dropDuplicates().groupby(\"Churn\").agg(count(\"Churn\")).toPandas()"
   ]
  },
  {
   "cell_type": "code",
   "execution_count": 16,
   "metadata": {},
   "outputs": [
    {
     "data": {
      "text/plain": [
       "[52, 173]"
      ]
     },
     "execution_count": 16,
     "metadata": {},
     "output_type": "execute_result"
    }
   ],
   "source": [
    "list(aa['count(Churn)'])"
   ]
  },
  {
   "cell_type": "code",
   "execution_count": 17,
   "metadata": {},
   "outputs": [
    {
     "data": {
      "image/png": "[encoded data removed]",
      "text/plain": [
       "<matplotlib.figure.Figure at 0x7f6f90bae6a0>"
      ]
     },
     "metadata": {
      "needs_background": "light"
     },
     "output_type": "display_data"
    }
   ],
   "source": [
    "courses = ['Churn', 'Not churn']\n",
    "values = list(aa['count(Churn)']) \n",
    "   \n",
    "fig = plt.figure(figsize = (10, 5)) \n",
    "  \n",
    "# creating the bar plot \n",
    "plt.bar(courses, values, color ='maroon',  \n",
    "        width = 0.4) \n",
    "  \n",
    "plt.xlabel(\"Categories of users\") \n",
    "plt.ylabel(\"No. of users\") \n",
    "plt.title(\"Number of users who churn\") \n",
    "plt.show() "
   ]
  },
  {
   "cell_type": "code",
   "execution_count": 18,
   "metadata": {},
   "outputs": [],
   "source": [
    "bb = df_cleaned_churn.select([\"userId\", \"Churn\", \"Artist\"]).groupby(\"userId\", \"Churn\").agg(count(\"Artist\")).groupby(\"Churn\").agg(avg(\"count(Artist)\")).toPandas()"
   ]
  },
  {
   "cell_type": "code",
   "execution_count": 19,
   "metadata": {},
   "outputs": [
    {
     "data": {
      "text/html": [
       "<div>\n",
       "<style scoped>\n",
       "    .dataframe tbody tr th:only-of-type {\n",
       "        vertical-align: middle;\n",
       "    }\n",
       "\n",
       "    .dataframe tbody tr th {\n",
       "        vertical-align: top;\n",
       "    }\n",
       "\n",
       "    .dataframe thead th {\n",
       "        text-align: right;\n",
       "    }\n",
       "</style>\n",
       "<table border=\"1\" class=\"dataframe\">\n",
       "  <thead>\n",
       "    <tr style=\"text-align: right;\">\n",
       "      <th></th>\n",
       "      <th>Churn</th>\n",
       "      <th>avg(count(Artist))</th>\n",
       "    </tr>\n",
       "  </thead>\n",
       "  <tbody>\n",
       "    <tr>\n",
       "      <th>0</th>\n",
       "      <td>1</td>\n",
       "      <td>699.884615</td>\n",
       "    </tr>\n",
       "    <tr>\n",
       "      <th>1</th>\n",
       "      <td>0</td>\n",
       "      <td>1108.173410</td>\n",
       "    </tr>\n",
       "  </tbody>\n",
       "</table>\n",
       "</div>"
      ],
      "text/plain": [
       "   Churn  avg(count(Artist))\n",
       "0      1          699.884615\n",
       "1      0         1108.173410"
      ]
     },
     "execution_count": 19,
     "metadata": {},
     "output_type": "execute_result"
    }
   ],
   "source": [
    "bb"
   ]
  },
  {
   "cell_type": "code",
   "execution_count": 20,
   "metadata": {},
   "outputs": [
    {
     "data": {
      "image/png": "[encoded data removed]",
      "text/plain": [
       "<matplotlib.figure.Figure at 0x7f6f8ea520b8>"
      ]
     },
     "metadata": {
      "needs_background": "light"
     },
     "output_type": "display_data"
    }
   ],
   "source": [
    "courses = ['Churn', 'Not churn']\n",
    "values = list(bb['avg(count(Artist))']) \n",
    "   \n",
    "fig = plt.figure(figsize = (10, 5)) \n",
    "  \n",
    "# creating the bar plot \n",
    "plt.bar(courses, values, color ='maroon',  \n",
    "        width = 0.4) \n",
    "  \n",
    "plt.xlabel(\"Categories of users\") \n",
    "plt.ylabel(\"Average number of songs played\") \n",
    "plt.title(\"Average number of songs played by different types of users\") \n",
    "plt.show() "
   ]
  },
  {
   "cell_type": "code",
   "execution_count": 21,
   "metadata": {},
   "outputs": [],
   "source": [
    "cc = df_cleaned_churn.select([\"userId\", \"Churn\", \"Artist\"]).dropDuplicates().groupby(\"userId\", \"Churn\").agg(count(\"Artist\")).groupby(\"Churn\").agg(avg(\"count(Artist)\")).toPandas()"
   ]
  },
  {
   "cell_type": "code",
   "execution_count": 22,
   "metadata": {},
   "outputs": [
    {
     "data": {
      "text/html": [
       "<div>\n",
       "<style scoped>\n",
       "    .dataframe tbody tr th:only-of-type {\n",
       "        vertical-align: middle;\n",
       "    }\n",
       "\n",
       "    .dataframe tbody tr th {\n",
       "        vertical-align: top;\n",
       "    }\n",
       "\n",
       "    .dataframe thead th {\n",
       "        text-align: right;\n",
       "    }\n",
       "</style>\n",
       "<table border=\"1\" class=\"dataframe\">\n",
       "  <thead>\n",
       "    <tr style=\"text-align: right;\">\n",
       "      <th></th>\n",
       "      <th>Churn</th>\n",
       "      <th>avg(count(Artist))</th>\n",
       "    </tr>\n",
       "  </thead>\n",
       "  <tbody>\n",
       "    <tr>\n",
       "      <th>0</th>\n",
       "      <td>1</td>\n",
       "      <td>518.692308</td>\n",
       "    </tr>\n",
       "    <tr>\n",
       "      <th>1</th>\n",
       "      <td>0</td>\n",
       "      <td>749.786127</td>\n",
       "    </tr>\n",
       "  </tbody>\n",
       "</table>\n",
       "</div>"
      ],
      "text/plain": [
       "   Churn  avg(count(Artist))\n",
       "0      1          518.692308\n",
       "1      0          749.786127"
      ]
     },
     "execution_count": 22,
     "metadata": {},
     "output_type": "execute_result"
    }
   ],
   "source": [
    "cc"
   ]
  },
  {
   "cell_type": "code",
   "execution_count": 23,
   "metadata": {},
   "outputs": [
    {
     "data": {
      "image/png": "[encoded data removed]",
      "text/plain": [
       "<matplotlib.figure.Figure at 0x7f6f8ea34160>"
      ]
     },
     "metadata": {
      "needs_background": "light"
     },
     "output_type": "display_data"
    }
   ],
   "source": [
    "courses = ['Churn', 'Not churn']\n",
    "values = list(bb['avg(count(Artist))']) \n",
    "   \n",
    "fig = plt.figure(figsize = (10, 5)) \n",
    "  \n",
    "# creating the bar plot \n",
    "plt.bar(courses, values, color ='maroon',  \n",
    "        width = 0.4) \n",
    "  \n",
    "plt.xlabel(\"Categories of users\") \n",
    "plt.ylabel(\"Average number of unique artists played\") \n",
    "plt.title(\"Average number of unique artists played by different types of users\") \n",
    "plt.show() "
   ]
  },
  {
   "cell_type": "code",
   "execution_count": 24,
   "metadata": {},
   "outputs": [],
   "source": [
    "dd = df_cleaned_churn.select([\"userId\", \"Churn\", \"song\"]).dropDuplicates().groupby(\"userId\", \"Churn\").agg(count(\"song\")).groupby(\"Churn\").agg(avg(\"count(song)\")).toPandas()"
   ]
  },
  {
   "cell_type": "code",
   "execution_count": 25,
   "metadata": {},
   "outputs": [
    {
     "data": {
      "text/html": [
       "<div>\n",
       "<style scoped>\n",
       "    .dataframe tbody tr th:only-of-type {\n",
       "        vertical-align: middle;\n",
       "    }\n",
       "\n",
       "    .dataframe tbody tr th {\n",
       "        vertical-align: top;\n",
       "    }\n",
       "\n",
       "    .dataframe thead th {\n",
       "        text-align: right;\n",
       "    }\n",
       "</style>\n",
       "<table border=\"1\" class=\"dataframe\">\n",
       "  <thead>\n",
       "    <tr style=\"text-align: right;\">\n",
       "      <th></th>\n",
       "      <th>Churn</th>\n",
       "      <th>avg(count(song))</th>\n",
       "    </tr>\n",
       "  </thead>\n",
       "  <tbody>\n",
       "    <tr>\n",
       "      <th>0</th>\n",
       "      <td>1</td>\n",
       "      <td>638.365385</td>\n",
       "    </tr>\n",
       "    <tr>\n",
       "      <th>1</th>\n",
       "      <td>0</td>\n",
       "      <td>975.768786</td>\n",
       "    </tr>\n",
       "  </tbody>\n",
       "</table>\n",
       "</div>"
      ],
      "text/plain": [
       "   Churn  avg(count(song))\n",
       "0      1        638.365385\n",
       "1      0        975.768786"
      ]
     },
     "execution_count": 25,
     "metadata": {},
     "output_type": "execute_result"
    }
   ],
   "source": [
    "dd"
   ]
  },
  {
   "cell_type": "code",
   "execution_count": 26,
   "metadata": {},
   "outputs": [
    {
     "data": {
      "image/png": "[encoded data removed]",
      "text/plain": [
       "<matplotlib.figure.Figure at 0x7f6f8e981588>"
      ]
     },
     "metadata": {
      "needs_background": "light"
     },
     "output_type": "display_data"
    }
   ],
   "source": [
    "courses = ['Churn', 'Not churn']\n",
    "values = list(dd['avg(count(song))']) \n",
    "   \n",
    "fig = plt.figure(figsize = (10, 5)) \n",
    "  \n",
    "# creating the bar plot \n",
    "plt.bar(courses, values, color ='maroon',  \n",
    "        width = 0.4) \n",
    "  \n",
    "plt.xlabel(\"Categories of users\") \n",
    "plt.ylabel(\"Average number of unique songs played\") \n",
    "plt.title(\"Average number of unique songs played by different types of users\") \n",
    "plt.show()"
   ]
  },
  {
   "cell_type": "code",
   "execution_count": 27,
   "metadata": {},
   "outputs": [
    {
     "data": {
      "text/plain": [
       "[Row(Churn=1, auth='Cancelled', avg(count(auth))=1.0),\n",
       " Row(Churn=0, auth='Logged In', avg(count(auth))=1348.4971098265896),\n",
       " Row(Churn=1, auth='Logged In', avg(count(auth))=861.7692307692307)]"
      ]
     },
     "execution_count": 27,
     "metadata": {},
     "output_type": "execute_result"
    }
   ],
   "source": [
    "df_cleaned_churn.select([\"userId\", \"Churn\", \"auth\"]).groupby(\"userId\", \"Churn\", \"auth\").agg(count(\"auth\")).groupby(\"Churn\", \"auth\").agg(avg(\"count(auth)\")).collect()"
   ]
  },
  {
   "cell_type": "code",
   "execution_count": 28,
   "metadata": {},
   "outputs": [
    {
     "data": {
      "text/plain": [
       "[Row(userId='18', auth='Cancelled', page='Cancellation Confirmation'),\n",
       " Row(userId='32', auth='Cancelled', page='Cancellation Confirmation'),\n",
       " Row(userId='125', auth='Cancelled', page='Cancellation Confirmation'),\n",
       " Row(userId='105', auth='Cancelled', page='Cancellation Confirmation'),\n",
       " Row(userId='17', auth='Cancelled', page='Cancellation Confirmation'),\n",
       " Row(userId='143', auth='Cancelled', page='Cancellation Confirmation'),\n",
       " Row(userId='101', auth='Cancelled', page='Cancellation Confirmation'),\n",
       " Row(userId='129', auth='Cancelled', page='Cancellation Confirmation'),\n",
       " Row(userId='121', auth='Cancelled', page='Cancellation Confirmation'),\n",
       " Row(userId='51', auth='Cancelled', page='Cancellation Confirmation'),\n",
       " Row(userId='87', auth='Cancelled', page='Cancellation Confirmation'),\n",
       " Row(userId='122', auth='Cancelled', page='Cancellation Confirmation'),\n",
       " Row(userId='12', auth='Cancelled', page='Cancellation Confirmation'),\n",
       " Row(userId='58', auth='Cancelled', page='Cancellation Confirmation'),\n",
       " Row(userId='73', auth='Cancelled', page='Cancellation Confirmation'),\n",
       " Row(userId='3', auth='Cancelled', page='Cancellation Confirmation'),\n",
       " Row(userId='106', auth='Cancelled', page='Cancellation Confirmation'),\n",
       " Row(userId='103', auth='Cancelled', page='Cancellation Confirmation'),\n",
       " Row(userId='28', auth='Cancelled', page='Cancellation Confirmation'),\n",
       " Row(userId='54', auth='Cancelled', page='Cancellation Confirmation'),\n",
       " Row(userId='29', auth='Cancelled', page='Cancellation Confirmation'),\n",
       " Row(userId='70', auth='Cancelled', page='Cancellation Confirmation'),\n",
       " Row(userId='53', auth='Cancelled', page='Cancellation Confirmation'),\n",
       " Row(userId='100011', auth='Cancelled', page='Cancellation Confirmation'),\n",
       " Row(userId='100001', auth='Cancelled', page='Cancellation Confirmation'),\n",
       " Row(userId='100024', auth='Cancelled', page='Cancellation Confirmation'),\n",
       " Row(userId='100006', auth='Cancelled', page='Cancellation Confirmation'),\n",
       " Row(userId='100019', auth='Cancelled', page='Cancellation Confirmation'),\n",
       " Row(userId='100003', auth='Cancelled', page='Cancellation Confirmation'),\n",
       " Row(userId='100023', auth='Cancelled', page='Cancellation Confirmation'),\n",
       " Row(userId='100005', auth='Cancelled', page='Cancellation Confirmation'),\n",
       " Row(userId='100017', auth='Cancelled', page='Cancellation Confirmation'),\n",
       " Row(userId='100025', auth='Cancelled', page='Cancellation Confirmation'),\n",
       " Row(userId='100009', auth='Cancelled', page='Cancellation Confirmation'),\n",
       " Row(userId='100012', auth='Cancelled', page='Cancellation Confirmation'),\n",
       " Row(userId='100013', auth='Cancelled', page='Cancellation Confirmation'),\n",
       " Row(userId='100022', auth='Cancelled', page='Cancellation Confirmation'),\n",
       " Row(userId='100014', auth='Cancelled', page='Cancellation Confirmation'),\n",
       " Row(userId='100015', auth='Cancelled', page='Cancellation Confirmation'),\n",
       " Row(userId='100021', auth='Cancelled', page='Cancellation Confirmation'),\n",
       " Row(userId='100007', auth='Cancelled', page='Cancellation Confirmation'),\n",
       " Row(userId='200001', auth='Cancelled', page='Cancellation Confirmation'),\n",
       " Row(userId='200024', auth='Cancelled', page='Cancellation Confirmation'),\n",
       " Row(userId='200011', auth='Cancelled', page='Cancellation Confirmation'),\n",
       " Row(userId='200021', auth='Cancelled', page='Cancellation Confirmation'),\n",
       " Row(userId='200018', auth='Cancelled', page='Cancellation Confirmation'),\n",
       " Row(userId='200015', auth='Cancelled', page='Cancellation Confirmation'),\n",
       " Row(userId='200017', auth='Cancelled', page='Cancellation Confirmation'),\n",
       " Row(userId='200016', auth='Cancelled', page='Cancellation Confirmation'),\n",
       " Row(userId='200020', auth='Cancelled', page='Cancellation Confirmation'),\n",
       " Row(userId='300007', auth='Cancelled', page='Cancellation Confirmation'),\n",
       " Row(userId='300001', auth='Cancelled', page='Cancellation Confirmation')]"
      ]
     },
     "execution_count": 28,
     "metadata": {},
     "output_type": "execute_result"
    }
   ],
   "source": [
    "df_cleaned_churn.select([\"userId\", \"auth\", \"page\"]).where(df.page == \"Cancellation Confirmation\").collect()"
   ]
  },
  {
   "cell_type": "code",
   "execution_count": 29,
   "metadata": {},
   "outputs": [],
   "source": [
    "ee = df_cleaned_churn.select([\"userId\", \"Churn\", \"gender\"]).dropDuplicates().groupby(\"Churn\", \"gender\").agg(count(\"userId\")).toPandas()"
   ]
  },
  {
   "cell_type": "code",
   "execution_count": 30,
   "metadata": {},
   "outputs": [
    {
     "data": {
      "text/html": [
       "<div>\n",
       "<style scoped>\n",
       "    .dataframe tbody tr th:only-of-type {\n",
       "        vertical-align: middle;\n",
       "    }\n",
       "\n",
       "    .dataframe tbody tr th {\n",
       "        vertical-align: top;\n",
       "    }\n",
       "\n",
       "    .dataframe thead th {\n",
       "        text-align: right;\n",
       "    }\n",
       "</style>\n",
       "<table border=\"1\" class=\"dataframe\">\n",
       "  <thead>\n",
       "    <tr style=\"text-align: right;\">\n",
       "      <th></th>\n",
       "      <th>Churn</th>\n",
       "      <th>gender</th>\n",
       "      <th>count(userId)</th>\n",
       "    </tr>\n",
       "  </thead>\n",
       "  <tbody>\n",
       "    <tr>\n",
       "      <th>0</th>\n",
       "      <td>1</td>\n",
       "      <td>F</td>\n",
       "      <td>20</td>\n",
       "    </tr>\n",
       "    <tr>\n",
       "      <th>1</th>\n",
       "      <td>0</td>\n",
       "      <td>M</td>\n",
       "      <td>89</td>\n",
       "    </tr>\n",
       "    <tr>\n",
       "      <th>2</th>\n",
       "      <td>1</td>\n",
       "      <td>M</td>\n",
       "      <td>32</td>\n",
       "    </tr>\n",
       "    <tr>\n",
       "      <th>3</th>\n",
       "      <td>0</td>\n",
       "      <td>F</td>\n",
       "      <td>84</td>\n",
       "    </tr>\n",
       "  </tbody>\n",
       "</table>\n",
       "</div>"
      ],
      "text/plain": [
       "   Churn gender  count(userId)\n",
       "0      1      F             20\n",
       "1      0      M             89\n",
       "2      1      M             32\n",
       "3      0      F             84"
      ]
     },
     "execution_count": 30,
     "metadata": {},
     "output_type": "execute_result"
    }
   ],
   "source": [
    "ee"
   ]
  },
  {
   "cell_type": "code",
   "execution_count": 31,
   "metadata": {},
   "outputs": [
    {
     "data": {
      "image/png": "[encoded data removed]",
      "text/plain": [
       "<matplotlib.figure.Figure at 0x7f6fa5527ac8>"
      ]
     },
     "metadata": {
      "needs_background": "light"
     },
     "output_type": "display_data"
    }
   ],
   "source": [
    "courses = ['Male', 'Female']\n",
    "values = [32/(89+32), 20/(20+84)]\n",
    "   \n",
    "fig = plt.figure(figsize = (10, 5))\n",
    "  \n",
    "# creating the bar plot \n",
    "plt.bar(courses, values, color ='maroon',  \n",
    "        width = 0.4)\n",
    "  \n",
    "plt.xlabel(\"Gender\") \n",
    "plt.ylabel(\"Proportion of users who churn\") \n",
    "plt.title(\"Proportion of users who churn\") \n",
    "plt.show()"
   ]
  },
  {
   "cell_type": "code",
   "execution_count": 32,
   "metadata": {},
   "outputs": [
    {
     "data": {
      "text/plain": [
       "Row(artist='Sleeping With Sirens', auth='Logged In', firstName='Darianna', gender='F', itemInSession=0, lastName='Carpenter', length=202.97098, level='free', location='Bridgeport-Stamford-Norwalk, CT', method='PUT', page='NextSong', registration=1538016340000, sessionId=31, song='Captain Tyin Knots VS Mr Walkway (No Way)', status=200, ts=1539003534000, userAgent='\"Mozilla/5.0 (iPhone; CPU iPhone OS 7_1_2 like Mac OS X) AppleWebKit/537.51.2 (KHTML, like Gecko) Version/7.0 Mobile/11D257 Safari/9537.53\"', userId='100010', Churn_state=0, Churn=0)"
      ]
     },
     "execution_count": 32,
     "metadata": {},
     "output_type": "execute_result"
    }
   ],
   "source": [
    "df_cleaned_churn.head()"
   ]
  },
  {
   "cell_type": "code",
   "execution_count": 33,
   "metadata": {},
   "outputs": [],
   "source": [
    "flag_Thumbs_Up = udf(lambda x : 1 if x=='Thumbs Up' else 0, IntegerType())\n",
    "df_cleaned_churn = df_cleaned_churn.withColumn('Thumbs_up',flag_Thumbs_Up('page'))"
   ]
  },
  {
   "cell_type": "code",
   "execution_count": 34,
   "metadata": {},
   "outputs": [],
   "source": [
    "ff = df_cleaned_churn.select([\"userId\", \"Churn\", \"Thumbs_up\"]).groupby(\"userId\", \"Churn\").sum(\"Thumbs_up\").groupby(\"Churn\").agg(avg(\"sum(Thumbs_up)\")).toPandas()"
   ]
  },
  {
   "cell_type": "code",
   "execution_count": 35,
   "metadata": {},
   "outputs": [
    {
     "data": {
      "text/html": [
       "<div>\n",
       "<style scoped>\n",
       "    .dataframe tbody tr th:only-of-type {\n",
       "        vertical-align: middle;\n",
       "    }\n",
       "\n",
       "    .dataframe tbody tr th {\n",
       "        vertical-align: top;\n",
       "    }\n",
       "\n",
       "    .dataframe thead th {\n",
       "        text-align: right;\n",
       "    }\n",
       "</style>\n",
       "<table border=\"1\" class=\"dataframe\">\n",
       "  <thead>\n",
       "    <tr style=\"text-align: right;\">\n",
       "      <th></th>\n",
       "      <th>Churn</th>\n",
       "      <th>avg(sum(Thumbs_up))</th>\n",
       "    </tr>\n",
       "  </thead>\n",
       "  <tbody>\n",
       "    <tr>\n",
       "      <th>0</th>\n",
       "      <td>1</td>\n",
       "      <td>35.750000</td>\n",
       "    </tr>\n",
       "    <tr>\n",
       "      <th>1</th>\n",
       "      <td>0</td>\n",
       "      <td>61.803468</td>\n",
       "    </tr>\n",
       "  </tbody>\n",
       "</table>\n",
       "</div>"
      ],
      "text/plain": [
       "   Churn  avg(sum(Thumbs_up))\n",
       "0      1            35.750000\n",
       "1      0            61.803468"
      ]
     },
     "execution_count": 35,
     "metadata": {},
     "output_type": "execute_result"
    }
   ],
   "source": [
    "ff"
   ]
  },
  {
   "cell_type": "code",
   "execution_count": 36,
   "metadata": {
    "scrolled": true
   },
   "outputs": [
    {
     "data": {
      "image/png": "[encoded data removed]",
      "text/plain": [
       "<matplotlib.figure.Figure at 0x7f6f8e93aac8>"
      ]
     },
     "metadata": {
      "needs_background": "light"
     },
     "output_type": "display_data"
    }
   ],
   "source": [
    "courses = ['Churn', 'Not Churn']\n",
    "values = list(ff['avg(sum(Thumbs_up))'])\n",
    "   \n",
    "fig = plt.figure(figsize = (10, 5))\n",
    "  \n",
    "# creating the bar plot \n",
    "plt.bar(courses, values, color ='maroon',  \n",
    "        width = 0.4)\n",
    "  \n",
    "plt.xlabel(\"User categories\") \n",
    "plt.ylabel(\"Average number of thumb up\") \n",
    "plt.title(\"Average number of thumb up by user categories\") \n",
    "plt.show()"
   ]
  },
  {
   "cell_type": "code",
   "execution_count": 37,
   "metadata": {},
   "outputs": [],
   "source": [
    "flag_Thumbs_Down = udf(lambda x : 1 if x=='Thumbs Down' else 0, IntegerType())\n",
    "df_cleaned_churn = df_cleaned_churn.withColumn('Thumbs_down',flag_Thumbs_Down('page'))\n",
    "ee = df_cleaned_churn.select([\"userId\", \"Churn\", \"Thumbs_down\"]).groupby(\"userId\", \"Churn\").sum(\"Thumbs_down\").groupby(\"Churn\").agg(avg(\"sum(Thumbs_down)\")).toPandas()"
   ]
  },
  {
   "cell_type": "code",
   "execution_count": 38,
   "metadata": {},
   "outputs": [
    {
     "data": {
      "text/html": [
       "<div>\n",
       "<style scoped>\n",
       "    .dataframe tbody tr th:only-of-type {\n",
       "        vertical-align: middle;\n",
       "    }\n",
       "\n",
       "    .dataframe tbody tr th {\n",
       "        vertical-align: top;\n",
       "    }\n",
       "\n",
       "    .dataframe thead th {\n",
       "        text-align: right;\n",
       "    }\n",
       "</style>\n",
       "<table border=\"1\" class=\"dataframe\">\n",
       "  <thead>\n",
       "    <tr style=\"text-align: right;\">\n",
       "      <th></th>\n",
       "      <th>Churn</th>\n",
       "      <th>avg(sum(Thumbs_down))</th>\n",
       "    </tr>\n",
       "  </thead>\n",
       "  <tbody>\n",
       "    <tr>\n",
       "      <th>0</th>\n",
       "      <td>1</td>\n",
       "      <td>9.538462</td>\n",
       "    </tr>\n",
       "    <tr>\n",
       "      <th>1</th>\n",
       "      <td>0</td>\n",
       "      <td>11.849711</td>\n",
       "    </tr>\n",
       "  </tbody>\n",
       "</table>\n",
       "</div>"
      ],
      "text/plain": [
       "   Churn  avg(sum(Thumbs_down))\n",
       "0      1               9.538462\n",
       "1      0              11.849711"
      ]
     },
     "execution_count": 38,
     "metadata": {},
     "output_type": "execute_result"
    }
   ],
   "source": [
    "ee"
   ]
  },
  {
   "cell_type": "code",
   "execution_count": 39,
   "metadata": {},
   "outputs": [
    {
     "data": {
      "image/png": "[encoded data removed]",
      "text/plain": [
       "<matplotlib.figure.Figure at 0x7f6f8e8976a0>"
      ]
     },
     "metadata": {
      "needs_background": "light"
     },
     "output_type": "display_data"
    }
   ],
   "source": [
    "courses = ['Churn', 'Not Churn']\n",
    "values = list(ee['avg(sum(Thumbs_down))'])\n",
    "   \n",
    "fig = plt.figure(figsize = (10, 5))\n",
    "  \n",
    "# creating the bar plot \n",
    "plt.bar(courses, values, color ='maroon',  \n",
    "        width = 0.4)\n",
    "  \n",
    "plt.xlabel(\"User categories\") \n",
    "plt.ylabel(\"Average number of thumb down\") \n",
    "plt.title(\"Average number of thumb down by user categories\") \n",
    "plt.show()"
   ]
  },
  {
   "cell_type": "code",
   "execution_count": 40,
   "metadata": {},
   "outputs": [],
   "source": [
    "flag_NextSong = udf(lambda x : 1 if x=='NextSong' else 0, IntegerType())\n",
    "df_cleaned_churn = df_cleaned_churn.withColumn('NextSong',flag_NextSong('page'))\n",
    "gg = df_cleaned_churn.select([\"userId\", \"Churn\", \"NextSong\"]).groupby(\"userId\", \"Churn\").sum(\"NextSong\").groupby(\"Churn\").agg(avg(\"sum(NextSong)\")).toPandas()"
   ]
  },
  {
   "cell_type": "code",
   "execution_count": 41,
   "metadata": {},
   "outputs": [
    {
     "data": {
      "text/html": [
       "<div>\n",
       "<style scoped>\n",
       "    .dataframe tbody tr th:only-of-type {\n",
       "        vertical-align: middle;\n",
       "    }\n",
       "\n",
       "    .dataframe tbody tr th {\n",
       "        vertical-align: top;\n",
       "    }\n",
       "\n",
       "    .dataframe thead th {\n",
       "        text-align: right;\n",
       "    }\n",
       "</style>\n",
       "<table border=\"1\" class=\"dataframe\">\n",
       "  <thead>\n",
       "    <tr style=\"text-align: right;\">\n",
       "      <th></th>\n",
       "      <th>Churn</th>\n",
       "      <th>avg(sum(NextSong))</th>\n",
       "    </tr>\n",
       "  </thead>\n",
       "  <tbody>\n",
       "    <tr>\n",
       "      <th>0</th>\n",
       "      <td>1</td>\n",
       "      <td>699.884615</td>\n",
       "    </tr>\n",
       "    <tr>\n",
       "      <th>1</th>\n",
       "      <td>0</td>\n",
       "      <td>1108.173410</td>\n",
       "    </tr>\n",
       "  </tbody>\n",
       "</table>\n",
       "</div>"
      ],
      "text/plain": [
       "   Churn  avg(sum(NextSong))\n",
       "0      1          699.884615\n",
       "1      0         1108.173410"
      ]
     },
     "execution_count": 41,
     "metadata": {},
     "output_type": "execute_result"
    }
   ],
   "source": [
    "gg"
   ]
  },
  {
   "cell_type": "code",
   "execution_count": 42,
   "metadata": {},
   "outputs": [
    {
     "data": {
      "image/png": "[encoded data removed]",
      "text/plain": [
       "<matplotlib.figure.Figure at 0x7f6f8e86f0b8>"
      ]
     },
     "metadata": {
      "needs_background": "light"
     },
     "output_type": "display_data"
    }
   ],
   "source": [
    "courses = ['Churn', 'Not Churn']\n",
    "values = list(gg['avg(sum(NextSong))'])\n",
    "   \n",
    "fig = plt.figure(figsize = (10, 5))\n",
    "  \n",
    "# creating the bar plot \n",
    "plt.bar(courses, values, color ='maroon',  \n",
    "        width = 0.4)\n",
    "  \n",
    "plt.xlabel(\"User categories\") \n",
    "plt.ylabel(\"Average number of next song\") \n",
    "plt.title(\"Average number of next song by user categories\") \n",
    "plt.show()"
   ]
  },
  {
   "cell_type": "code",
   "execution_count": 43,
   "metadata": {},
   "outputs": [],
   "source": [
    "flag_Add_Friend = udf(lambda x : 1 if x=='Add Friend' else 0, IntegerType())\n",
    "df_cleaned_churn = df_cleaned_churn.withColumn('Add_Friend',flag_Add_Friend('page'))\n",
    "hh = df_cleaned_churn.select([\"userId\", \"Churn\", \"Add_Friend\"]).groupby(\"userId\", \"Churn\").sum(\"Add_Friend\").groupby(\"Churn\").agg(avg(\"sum(Add_Friend)\")).toPandas()"
   ]
  },
  {
   "cell_type": "code",
   "execution_count": 44,
   "metadata": {},
   "outputs": [
    {
     "data": {
      "text/html": [
       "<div>\n",
       "<style scoped>\n",
       "    .dataframe tbody tr th:only-of-type {\n",
       "        vertical-align: middle;\n",
       "    }\n",
       "\n",
       "    .dataframe tbody tr th {\n",
       "        vertical-align: top;\n",
       "    }\n",
       "\n",
       "    .dataframe thead th {\n",
       "        text-align: right;\n",
       "    }\n",
       "</style>\n",
       "<table border=\"1\" class=\"dataframe\">\n",
       "  <thead>\n",
       "    <tr style=\"text-align: right;\">\n",
       "      <th></th>\n",
       "      <th>Churn</th>\n",
       "      <th>avg(sum(Add_Friend))</th>\n",
       "    </tr>\n",
       "  </thead>\n",
       "  <tbody>\n",
       "    <tr>\n",
       "      <th>0</th>\n",
       "      <td>1</td>\n",
       "      <td>12.230769</td>\n",
       "    </tr>\n",
       "    <tr>\n",
       "      <th>1</th>\n",
       "      <td>0</td>\n",
       "      <td>21.046243</td>\n",
       "    </tr>\n",
       "  </tbody>\n",
       "</table>\n",
       "</div>"
      ],
      "text/plain": [
       "   Churn  avg(sum(Add_Friend))\n",
       "0      1             12.230769\n",
       "1      0             21.046243"
      ]
     },
     "execution_count": 44,
     "metadata": {},
     "output_type": "execute_result"
    }
   ],
   "source": [
    "hh"
   ]
  },
  {
   "cell_type": "code",
   "execution_count": 45,
   "metadata": {},
   "outputs": [
    {
     "data": {
      "image/png": "[encoded data removed]",
      "text/plain": [
       "<matplotlib.figure.Figure at 0x7f6f8e83d780>"
      ]
     },
     "metadata": {
      "needs_background": "light"
     },
     "output_type": "display_data"
    }
   ],
   "source": [
    "courses = ['Churn', 'Not Churn']\n",
    "values = list(hh['avg(sum(Add_Friend))'])\n",
    "   \n",
    "fig = plt.figure(figsize = (10, 5))\n",
    "  \n",
    "# creating the bar plot \n",
    "plt.bar(courses, values, color ='maroon',  \n",
    "        width = 0.4)\n",
    "  \n",
    "plt.xlabel(\"User categories\") \n",
    "plt.ylabel(\"Average number of add friends\") \n",
    "plt.title(\"Average number of add friends by user categories\") \n",
    "plt.show()"
   ]
  },
  {
   "cell_type": "code",
   "execution_count": 46,
   "metadata": {},
   "outputs": [],
   "source": [
    "flag_Add_to_Playlist = udf(lambda x : 1 if x=='Add to Playlist' else 0, IntegerType())\n",
    "df_cleaned_churn = df_cleaned_churn.withColumn('Add_to_Playlist',flag_Add_to_Playlist('page'))\n",
    "gg = df_cleaned_churn.select([\"userId\", \"Churn\", \"Add_to_Playlist\"]).groupby(\"userId\", \"Churn\").sum(\"Add_to_Playlist\").groupby(\"Churn\").agg(avg(\"sum(Add_to_Playlist)\")).toPandas()"
   ]
  },
  {
   "cell_type": "code",
   "execution_count": 47,
   "metadata": {
    "scrolled": true
   },
   "outputs": [
    {
     "data": {
      "text/html": [
       "<div>\n",
       "<style scoped>\n",
       "    .dataframe tbody tr th:only-of-type {\n",
       "        vertical-align: middle;\n",
       "    }\n",
       "\n",
       "    .dataframe tbody tr th {\n",
       "        vertical-align: top;\n",
       "    }\n",
       "\n",
       "    .dataframe thead th {\n",
       "        text-align: right;\n",
       "    }\n",
       "</style>\n",
       "<table border=\"1\" class=\"dataframe\">\n",
       "  <thead>\n",
       "    <tr style=\"text-align: right;\">\n",
       "      <th></th>\n",
       "      <th>Churn</th>\n",
       "      <th>avg(sum(Add_to_Playlist))</th>\n",
       "    </tr>\n",
       "  </thead>\n",
       "  <tbody>\n",
       "    <tr>\n",
       "      <th>0</th>\n",
       "      <td>1</td>\n",
       "      <td>19.961538</td>\n",
       "    </tr>\n",
       "    <tr>\n",
       "      <th>1</th>\n",
       "      <td>0</td>\n",
       "      <td>31.722543</td>\n",
       "    </tr>\n",
       "  </tbody>\n",
       "</table>\n",
       "</div>"
      ],
      "text/plain": [
       "   Churn  avg(sum(Add_to_Playlist))\n",
       "0      1                  19.961538\n",
       "1      0                  31.722543"
      ]
     },
     "execution_count": 47,
     "metadata": {},
     "output_type": "execute_result"
    }
   ],
   "source": [
    "gg"
   ]
  },
  {
   "cell_type": "code",
   "execution_count": 48,
   "metadata": {},
   "outputs": [
    {
     "data": {
      "image/png": "[encoded data removed]",
      "text/plain": [
       "<matplotlib.figure.Figure at 0x7f6f8e791ef0>"
      ]
     },
     "metadata": {
      "needs_background": "light"
     },
     "output_type": "display_data"
    }
   ],
   "source": [
    "courses = ['Churn', 'Not Churn']\n",
    "values = list(gg['avg(sum(Add_to_Playlist))'])\n",
    "   \n",
    "fig = plt.figure(figsize = (10, 5))\n",
    "  \n",
    "# creating the bar plot \n",
    "plt.bar(courses, values, color ='maroon',  \n",
    "        width = 0.4)\n",
    "  \n",
    "plt.xlabel(\"User categories\") \n",
    "plt.ylabel(\"Average number of add playlist\") \n",
    "plt.title(\"Average number of add playlist by user categories\") \n",
    "plt.show()"
   ]
  },
  {
   "cell_type": "markdown",
   "metadata": {},
   "source": [
    "# Feature Engineering\n",
    "Once you've familiarized yourself with the data, build out the features you find promising to train your model on. To work with the full dataset, you can follow the following steps.\n",
    "- Write a script to extract the necessary features from the smaller subset of data\n",
    "- Ensure that your script is scalable, using the best practices discussed in Lesson 3\n",
    "- Try your script on the full data set, debugging your script if necessary\n",
    "\n",
    "If you are working in the classroom workspace, you can just extract features based on the small subset of data contained here. Be sure to transfer over this work to the larger dataset when you work on your Spark cluster."
   ]
  },
  {
   "cell_type": "code",
   "execution_count": 7,
   "metadata": {},
   "outputs": [],
   "source": [
    "def preprocessing_and_feature_engineering():\n",
    "    df_cleaned = df.filter(df['userId']!='')\n",
    "    flag_event = udf(lambda x : 1 if x=='Cancellation Confirmation' else 0, IntegerType())\n",
    "    df_cleaned_churn = df_cleaned.withColumn('Churn_state',flag_event('page'))\n",
    "    userwindow = Window.partitionBy('userId').rangeBetween(Window.unboundedPreceding,Window.unboundedFollowing)\n",
    "    df_cleaned_churn = df_cleaned_churn.withColumn('Churn',fmax('Churn_state').over(userwindow))\n",
    "    num_track = df_cleaned_churn.select([\"userId\", \"Artist\"]).groupby(\"userId\").agg(count(\"Artist\"))\n",
    "    num_unique_artist = df_cleaned_churn.select([\"userId\", \"Artist\"]).dropDuplicates().groupby(\"userId\").agg(count(\"Artist\"))\n",
    "    num_unique_artist = num_unique_artist.select(col(\"userId\").alias(\"userId\"), col(\"count(Artist)\").alias(\"count(Artist2)\"))\n",
    "    num_unique_song = df_cleaned_churn.select([\"userId\", \"song\"]).dropDuplicates().groupby(\"userId\").agg(count(\"song\"))\n",
    "    flag_Male = udf(lambda x : 1 if x=='M' else 0, IntegerType())\n",
    "    df_cleaned_churn = df_cleaned_churn.withColumn('gender_M',flag_Male('gender'))\n",
    "    flag_Thumbs_Up = udf(lambda x : 1 if x=='Thumbs Up' else 0, IntegerType())\n",
    "    df_cleaned_churn = df_cleaned_churn.withColumn('Thumbs_up',flag_Thumbs_Up('page'))\n",
    "    flag_Thumbs_Down = udf(lambda x : 1 if x=='Thumbs Down' else 0, IntegerType())\n",
    "    df_cleaned_churn = df_cleaned_churn.withColumn('Thumbs_down',flag_Thumbs_Down('page'))\n",
    "    flag_NextSong = udf(lambda x : 1 if x=='NextSong' else 0, IntegerType())\n",
    "    df_cleaned_churn = df_cleaned_churn.withColumn('NextSong',flag_NextSong('page'))\n",
    "    flag_Add_Friend = udf(lambda x : 1 if x=='Add Friend' else 0, IntegerType())\n",
    "    df_cleaned_churn = df_cleaned_churn.withColumn('Add_Friend',flag_Add_Friend('page'))\n",
    "    flag_Add_to_Playlist = udf(lambda x : 1 if x=='Add to Playlist' else 0, IntegerType())\n",
    "    df_cleaned_churn = df_cleaned_churn.withColumn('Add_to_Playlist',flag_Add_to_Playlist('page'))\n",
    "    male = df_cleaned_churn.select([\"userId\", \"gender_M\"])\n",
    "    thumbs_up = df_cleaned_churn.select([\"userId\", \"Thumbs_up\"])\n",
    "    thumbs_down = df_cleaned_churn.select([\"userId\", \"Thumbs_down\"])\n",
    "    nextsong = df_cleaned_churn.select([\"userId\", 'NextSong'])\n",
    "    add_friend = df_cleaned_churn.select([\"userId\", 'Add_Friend'])\n",
    "    add_to_playlist = df_cleaned_churn.select([\"userId\", 'Add_to_Playlist'])\n",
    "    churn = df_cleaned_churn.select(['userId', 'churn'])\n",
    "    combined = churn.join(num_track, [\"UserId\"]).join(num_unique_artist, [\"UserId\"]).join(num_unique_song, [\"UserId\"]).join(male, [\"UserId\"]).join(thumbs_up, [\"UserId\"]).join(thumbs_down, [\"UserId\"]).join(nextsong, [\"UserId\"]).join(add_friend, [\"UserId\"]).join(add_to_playlist, [\"UserId\"])\n",
    "    return combined"
   ]
  },
  {
   "cell_type": "code",
   "execution_count": 8,
   "metadata": {},
   "outputs": [],
   "source": [
    "combined_data = preprocessing_and_feature_engineering()"
   ]
  },
  {
   "cell_type": "code",
   "execution_count": 9,
   "metadata": {},
   "outputs": [
    {
     "data": {
      "text/plain": [
       "Row(userId='100010', churn=0, count(Artist)=275, count(Artist2)=252, count(song)=269, gender_M=0, Thumbs_up=0, Thumbs_down=0, NextSong=1, Add_Friend=0, Add_to_Playlist=0)"
      ]
     },
     "execution_count": 9,
     "metadata": {},
     "output_type": "execute_result"
    }
   ],
   "source": [
    "combined_data.head()"
   ]
  },
  {
   "cell_type": "code",
   "execution_count": null,
   "metadata": {},
   "outputs": [],
   "source": [
    "assembler = VectorAssembler(inputCols=[\"count(Artist)\", \"count(Artist2)\", \"count(song)\", \"Thumbs_up\", \"Thumbs_down\", \"NextSong\", \"Add_Friend\", \"Add_to_Playlist\"], outputCol=\"features_\")\n",
    "combined_data = assembler.transform(combined_data)"
   ]
  },
  {
   "cell_type": "code",
   "execution_count": 10,
   "metadata": {},
   "outputs": [],
   "source": [
    "toDense = lambda v: Vectors.dense(v.toArray())\n",
    "toDenseUdf = F.udf(toDense, VectorUDT())"
   ]
  },
  {
   "cell_type": "code",
   "execution_count": 11,
   "metadata": {},
   "outputs": [],
   "source": [
    "combined_data = combined_data.withColumn('features_', toDenseUdf('features_'))"
   ]
  },
  {
   "cell_type": "code",
   "execution_count": 12,
   "metadata": {},
   "outputs": [
    {
     "data": {
      "text/plain": [
       "Row(userId='100010', churn=0, count(Artist)=275, count(Artist2)=252, count(song)=269, gender_M=0, Thumbs_up=0, Thumbs_down=0, NextSong=1, Add_Friend=0, Add_to_Playlist=0, features_=DenseVector([275.0, 252.0, 269.0, 0.0, 0.0, 1.0, 0.0, 0.0]))"
      ]
     },
     "execution_count": 12,
     "metadata": {},
     "output_type": "execute_result"
    }
   ],
   "source": [
    "combined_data.head()"
   ]
  },
  {
   "cell_type": "code",
   "execution_count": null,
   "metadata": {},
   "outputs": [],
   "source": [
    "scaler2 = StandardScaler(inputCol=\"features_\", outputCol=\"features\", withMean=False, withStd=False)"
   ]
  },
  {
   "cell_type": "code",
   "execution_count": null,
   "metadata": {},
   "outputs": [],
   "source": [
    "scalerModel = scaler2.fit(combined_data)"
   ]
  },
  {
   "cell_type": "code",
   "execution_count": null,
   "metadata": {},
   "outputs": [],
   "source": [
    "combined_data = scalerModel.transform(combined_data)"
   ]
  },
  {
   "cell_type": "code",
   "execution_count": 55,
   "metadata": {},
   "outputs": [],
   "source": [
    "scaler2 = StandardScaler(inputCol=\"features\", outputCol=\"ScaledFeatures\")"
   ]
  },
  {
   "cell_type": "code",
   "execution_count": 56,
   "metadata": {},
   "outputs": [
    {
     "ename": "KeyboardInterrupt",
     "evalue": "",
     "output_type": "error",
     "traceback": [
      "\u001b[0;31m---------------------------------------------------------------------------\u001b[0m",
      "\u001b[0;31mKeyboardInterrupt\u001b[0m                         Traceback (most recent call last)",
      "\u001b[0;32m<ipython-input-56-a2b8f89fdcc3>\u001b[0m in \u001b[0;36m<module>\u001b[0;34m()\u001b[0m\n\u001b[0;32m----> 1\u001b[0;31m \u001b[0mscalerModel\u001b[0m \u001b[0;34m=\u001b[0m \u001b[0mscaler2\u001b[0m\u001b[0;34m.\u001b[0m\u001b[0mfit\u001b[0m\u001b[0;34m(\u001b[0m\u001b[0mcombined_data\u001b[0m\u001b[0;34m)\u001b[0m\u001b[0;34m\u001b[0m\u001b[0m\n\u001b[0m",
      "\u001b[0;32m/opt/spark-2.4.3-bin-hadoop2.7/python/pyspark/ml/base.py\u001b[0m in \u001b[0;36mfit\u001b[0;34m(self, dataset, params)\u001b[0m\n\u001b[1;32m    130\u001b[0m                 \u001b[0;32mreturn\u001b[0m \u001b[0mself\u001b[0m\u001b[0;34m.\u001b[0m\u001b[0mcopy\u001b[0m\u001b[0;34m(\u001b[0m\u001b[0mparams\u001b[0m\u001b[0;34m)\u001b[0m\u001b[0;34m.\u001b[0m\u001b[0m_fit\u001b[0m\u001b[0;34m(\u001b[0m\u001b[0mdataset\u001b[0m\u001b[0;34m)\u001b[0m\u001b[0;34m\u001b[0m\u001b[0m\n\u001b[1;32m    131\u001b[0m             \u001b[0;32melse\u001b[0m\u001b[0;34m:\u001b[0m\u001b[0;34m\u001b[0m\u001b[0m\n\u001b[0;32m--> 132\u001b[0;31m                 \u001b[0;32mreturn\u001b[0m \u001b[0mself\u001b[0m\u001b[0;34m.\u001b[0m\u001b[0m_fit\u001b[0m\u001b[0;34m(\u001b[0m\u001b[0mdataset\u001b[0m\u001b[0;34m)\u001b[0m\u001b[0;34m\u001b[0m\u001b[0m\n\u001b[0m\u001b[1;32m    133\u001b[0m         \u001b[0;32melse\u001b[0m\u001b[0;34m:\u001b[0m\u001b[0;34m\u001b[0m\u001b[0m\n\u001b[1;32m    134\u001b[0m             raise ValueError(\"Params must be either a param map or a list/tuple of param maps, \"\n",
      "\u001b[0;32m/opt/spark-2.4.3-bin-hadoop2.7/python/pyspark/ml/wrapper.py\u001b[0m in \u001b[0;36m_fit\u001b[0;34m(self, dataset)\u001b[0m\n\u001b[1;32m    293\u001b[0m \u001b[0;34m\u001b[0m\u001b[0m\n\u001b[1;32m    294\u001b[0m     \u001b[0;32mdef\u001b[0m \u001b[0m_fit\u001b[0m\u001b[0;34m(\u001b[0m\u001b[0mself\u001b[0m\u001b[0;34m,\u001b[0m \u001b[0mdataset\u001b[0m\u001b[0;34m)\u001b[0m\u001b[0;34m:\u001b[0m\u001b[0;34m\u001b[0m\u001b[0m\n\u001b[0;32m--> 295\u001b[0;31m         \u001b[0mjava_model\u001b[0m \u001b[0;34m=\u001b[0m \u001b[0mself\u001b[0m\u001b[0;34m.\u001b[0m\u001b[0m_fit_java\u001b[0m\u001b[0;34m(\u001b[0m\u001b[0mdataset\u001b[0m\u001b[0;34m)\u001b[0m\u001b[0;34m\u001b[0m\u001b[0m\n\u001b[0m\u001b[1;32m    296\u001b[0m         \u001b[0mmodel\u001b[0m \u001b[0;34m=\u001b[0m \u001b[0mself\u001b[0m\u001b[0;34m.\u001b[0m\u001b[0m_create_model\u001b[0m\u001b[0;34m(\u001b[0m\u001b[0mjava_model\u001b[0m\u001b[0;34m)\u001b[0m\u001b[0;34m\u001b[0m\u001b[0m\n\u001b[1;32m    297\u001b[0m         \u001b[0;32mreturn\u001b[0m \u001b[0mself\u001b[0m\u001b[0;34m.\u001b[0m\u001b[0m_copyValues\u001b[0m\u001b[0;34m(\u001b[0m\u001b[0mmodel\u001b[0m\u001b[0;34m)\u001b[0m\u001b[0;34m\u001b[0m\u001b[0m\n",
      "\u001b[0;32m/opt/spark-2.4.3-bin-hadoop2.7/python/pyspark/ml/wrapper.py\u001b[0m in \u001b[0;36m_fit_java\u001b[0;34m(self, dataset)\u001b[0m\n\u001b[1;32m    290\u001b[0m         \"\"\"\n\u001b[1;32m    291\u001b[0m         \u001b[0mself\u001b[0m\u001b[0;34m.\u001b[0m\u001b[0m_transfer_params_to_java\u001b[0m\u001b[0;34m(\u001b[0m\u001b[0;34m)\u001b[0m\u001b[0;34m\u001b[0m\u001b[0m\n\u001b[0;32m--> 292\u001b[0;31m         \u001b[0;32mreturn\u001b[0m \u001b[0mself\u001b[0m\u001b[0;34m.\u001b[0m\u001b[0m_java_obj\u001b[0m\u001b[0;34m.\u001b[0m\u001b[0mfit\u001b[0m\u001b[0;34m(\u001b[0m\u001b[0mdataset\u001b[0m\u001b[0;34m.\u001b[0m\u001b[0m_jdf\u001b[0m\u001b[0;34m)\u001b[0m\u001b[0;34m\u001b[0m\u001b[0m\n\u001b[0m\u001b[1;32m    293\u001b[0m \u001b[0;34m\u001b[0m\u001b[0m\n\u001b[1;32m    294\u001b[0m     \u001b[0;32mdef\u001b[0m \u001b[0m_fit\u001b[0m\u001b[0;34m(\u001b[0m\u001b[0mself\u001b[0m\u001b[0;34m,\u001b[0m \u001b[0mdataset\u001b[0m\u001b[0;34m)\u001b[0m\u001b[0;34m:\u001b[0m\u001b[0;34m\u001b[0m\u001b[0m\n",
      "\u001b[0;32m/opt/spark-2.4.3-bin-hadoop2.7/python/lib/py4j-0.10.7-src.zip/py4j/java_gateway.py\u001b[0m in \u001b[0;36m__call__\u001b[0;34m(self, *args)\u001b[0m\n\u001b[1;32m   1253\u001b[0m             \u001b[0mproto\u001b[0m\u001b[0;34m.\u001b[0m\u001b[0mEND_COMMAND_PART\u001b[0m\u001b[0;34m\u001b[0m\u001b[0m\n\u001b[1;32m   1254\u001b[0m \u001b[0;34m\u001b[0m\u001b[0m\n\u001b[0;32m-> 1255\u001b[0;31m         \u001b[0manswer\u001b[0m \u001b[0;34m=\u001b[0m \u001b[0mself\u001b[0m\u001b[0;34m.\u001b[0m\u001b[0mgateway_client\u001b[0m\u001b[0;34m.\u001b[0m\u001b[0msend_command\u001b[0m\u001b[0;34m(\u001b[0m\u001b[0mcommand\u001b[0m\u001b[0;34m)\u001b[0m\u001b[0;34m\u001b[0m\u001b[0m\n\u001b[0m\u001b[1;32m   1256\u001b[0m         return_value = get_return_value(\n\u001b[1;32m   1257\u001b[0m             answer, self.gateway_client, self.target_id, self.name)\n",
      "\u001b[0;32m/opt/spark-2.4.3-bin-hadoop2.7/python/lib/py4j-0.10.7-src.zip/py4j/java_gateway.py\u001b[0m in \u001b[0;36msend_command\u001b[0;34m(self, command, retry, binary)\u001b[0m\n\u001b[1;32m    983\u001b[0m         \u001b[0mconnection\u001b[0m \u001b[0;34m=\u001b[0m \u001b[0mself\u001b[0m\u001b[0;34m.\u001b[0m\u001b[0m_get_connection\u001b[0m\u001b[0;34m(\u001b[0m\u001b[0;34m)\u001b[0m\u001b[0;34m\u001b[0m\u001b[0m\n\u001b[1;32m    984\u001b[0m         \u001b[0;32mtry\u001b[0m\u001b[0;34m:\u001b[0m\u001b[0;34m\u001b[0m\u001b[0m\n\u001b[0;32m--> 985\u001b[0;31m             \u001b[0mresponse\u001b[0m \u001b[0;34m=\u001b[0m \u001b[0mconnection\u001b[0m\u001b[0;34m.\u001b[0m\u001b[0msend_command\u001b[0m\u001b[0;34m(\u001b[0m\u001b[0mcommand\u001b[0m\u001b[0;34m)\u001b[0m\u001b[0;34m\u001b[0m\u001b[0m\n\u001b[0m\u001b[1;32m    986\u001b[0m             \u001b[0;32mif\u001b[0m \u001b[0mbinary\u001b[0m\u001b[0;34m:\u001b[0m\u001b[0;34m\u001b[0m\u001b[0m\n\u001b[1;32m    987\u001b[0m                 \u001b[0;32mreturn\u001b[0m \u001b[0mresponse\u001b[0m\u001b[0;34m,\u001b[0m \u001b[0mself\u001b[0m\u001b[0;34m.\u001b[0m\u001b[0m_create_connection_guard\u001b[0m\u001b[0;34m(\u001b[0m\u001b[0mconnection\u001b[0m\u001b[0;34m)\u001b[0m\u001b[0;34m\u001b[0m\u001b[0m\n",
      "\u001b[0;32m/opt/spark-2.4.3-bin-hadoop2.7/python/lib/py4j-0.10.7-src.zip/py4j/java_gateway.py\u001b[0m in \u001b[0;36msend_command\u001b[0;34m(self, command)\u001b[0m\n\u001b[1;32m   1150\u001b[0m \u001b[0;34m\u001b[0m\u001b[0m\n\u001b[1;32m   1151\u001b[0m         \u001b[0;32mtry\u001b[0m\u001b[0;34m:\u001b[0m\u001b[0;34m\u001b[0m\u001b[0m\n\u001b[0;32m-> 1152\u001b[0;31m             \u001b[0manswer\u001b[0m \u001b[0;34m=\u001b[0m \u001b[0msmart_decode\u001b[0m\u001b[0;34m(\u001b[0m\u001b[0mself\u001b[0m\u001b[0;34m.\u001b[0m\u001b[0mstream\u001b[0m\u001b[0;34m.\u001b[0m\u001b[0mreadline\u001b[0m\u001b[0;34m(\u001b[0m\u001b[0;34m)\u001b[0m\u001b[0;34m[\u001b[0m\u001b[0;34m:\u001b[0m\u001b[0;34m-\u001b[0m\u001b[0;36m1\u001b[0m\u001b[0;34m]\u001b[0m\u001b[0;34m)\u001b[0m\u001b[0;34m\u001b[0m\u001b[0m\n\u001b[0m\u001b[1;32m   1153\u001b[0m             \u001b[0mlogger\u001b[0m\u001b[0;34m.\u001b[0m\u001b[0mdebug\u001b[0m\u001b[0;34m(\u001b[0m\u001b[0;34m\"Answer received: {0}\"\u001b[0m\u001b[0;34m.\u001b[0m\u001b[0mformat\u001b[0m\u001b[0;34m(\u001b[0m\u001b[0manswer\u001b[0m\u001b[0;34m)\u001b[0m\u001b[0;34m)\u001b[0m\u001b[0;34m\u001b[0m\u001b[0m\n\u001b[1;32m   1154\u001b[0m             \u001b[0;32mif\u001b[0m \u001b[0manswer\u001b[0m\u001b[0;34m.\u001b[0m\u001b[0mstartswith\u001b[0m\u001b[0;34m(\u001b[0m\u001b[0mproto\u001b[0m\u001b[0;34m.\u001b[0m\u001b[0mRETURN_MESSAGE\u001b[0m\u001b[0;34m)\u001b[0m\u001b[0;34m:\u001b[0m\u001b[0;34m\u001b[0m\u001b[0m\n",
      "\u001b[0;32m/opt/conda/lib/python3.6/socket.py\u001b[0m in \u001b[0;36mreadinto\u001b[0;34m(self, b)\u001b[0m\n\u001b[1;32m    584\u001b[0m         \u001b[0;32mwhile\u001b[0m \u001b[0;32mTrue\u001b[0m\u001b[0;34m:\u001b[0m\u001b[0;34m\u001b[0m\u001b[0m\n\u001b[1;32m    585\u001b[0m             \u001b[0;32mtry\u001b[0m\u001b[0;34m:\u001b[0m\u001b[0;34m\u001b[0m\u001b[0m\n\u001b[0;32m--> 586\u001b[0;31m                 \u001b[0;32mreturn\u001b[0m \u001b[0mself\u001b[0m\u001b[0;34m.\u001b[0m\u001b[0m_sock\u001b[0m\u001b[0;34m.\u001b[0m\u001b[0mrecv_into\u001b[0m\u001b[0;34m(\u001b[0m\u001b[0mb\u001b[0m\u001b[0;34m)\u001b[0m\u001b[0;34m\u001b[0m\u001b[0m\n\u001b[0m\u001b[1;32m    587\u001b[0m             \u001b[0;32mexcept\u001b[0m \u001b[0mtimeout\u001b[0m\u001b[0;34m:\u001b[0m\u001b[0;34m\u001b[0m\u001b[0m\n\u001b[1;32m    588\u001b[0m                 \u001b[0mself\u001b[0m\u001b[0;34m.\u001b[0m\u001b[0m_timeout_occurred\u001b[0m \u001b[0;34m=\u001b[0m \u001b[0;32mTrue\u001b[0m\u001b[0;34m\u001b[0m\u001b[0m\n",
      "\u001b[0;31mKeyboardInterrupt\u001b[0m: "
     ]
    }
   ],
   "source": [
    "scalerModel = scaler2.fit(combined_data)"
   ]
  },
  {
   "cell_type": "code",
   "execution_count": null,
   "metadata": {},
   "outputs": [],
   "source": []
  },
  {
   "cell_type": "code",
   "execution_count": null,
   "metadata": {},
   "outputs": [],
   "source": [
    "combined_data.head()"
   ]
  },
  {
   "cell_type": "code",
   "execution_count": null,
   "metadata": {},
   "outputs": [],
   "source": []
  },
  {
   "cell_type": "code",
   "execution_count": null,
   "metadata": {},
   "outputs": [],
   "source": []
  },
  {
   "cell_type": "markdown",
   "metadata": {},
   "source": [
    "# Modeling\n",
    "Split the full dataset into train, test, and validation sets. Test out several of the machine learning methods you learned. Evaluate the accuracy of the various models, tuning parameters as necessary. Determine your winning model based on test accuracy and report results on the validation set. Since the churned users are a fairly small subset, I suggest using F1 score as the metric to optimize."
   ]
  },
  {
   "cell_type": "code",
   "execution_count": null,
   "metadata": {},
   "outputs": [],
   "source": []
  },
  {
   "cell_type": "markdown",
   "metadata": {},
   "source": [
    "# Final Steps\n",
    "Clean up your code, adding comments and renaming variables to make the code easier to read and maintain. Refer to the Spark Project Overview page and Data Scientist Capstone Project Rubric to make sure you are including all components of the capstone project and meet all expectations. Remember, this includes thorough documentation in a README file in a Github repository, as well as a web app or blog post."
   ]
  },
  {
   "cell_type": "code",
   "execution_count": null,
   "metadata": {},
   "outputs": [],
   "source": []
  }
 ],
 "metadata": {
  "kernelspec": {
   "display_name": "Python 3",
   "language": "python",
   "name": "python3"
  },
  "language_info": {
   "codemirror_mode": {
    "name": "ipython",
    "version": 3
   },
   "file_extension": ".py",
   "mimetype": "text/x-python",
   "name": "python",
   "nbconvert_exporter": "python",
   "pygments_lexer": "ipython3",
   "version": "3.6.5"
  }
 },
 "nbformat": 4,
 "nbformat_minor": 2
}
